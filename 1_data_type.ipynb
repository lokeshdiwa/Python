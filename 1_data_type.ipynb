{
 "cells": [
  {
   "cell_type": "markdown",
   "id": "21a9ce8d-cd4c-4747-a70c-2a74363222de",
   "metadata": {
    "tags": []
   },
   "source": [
    "# Python Basics"
   ]
  },
  {
   "cell_type": "markdown",
   "id": "55114ccf-74e4-4989-844c-153e95833762",
   "metadata": {
    "tags": []
   },
   "source": [
    "### Standard and Built-in Data Types"
   ]
  },
  {
   "cell_type": "raw",
   "id": "e57467ab-ccfe-47f3-b883-5a0b4107f444",
   "metadata": {},
   "source": [
    "1. Numeric\n",
    "    - Integer\n",
    "    - Complex Number\n",
    "    - Float\n",
    "2. Sequence Type\n",
    "    - Strings\n",
    "    - List\n",
    "    - Tuple\n",
    "3. Boolean\n",
    "4. Dictionary\n",
    "5. Set"
   ]
  },
  {
   "cell_type": "markdown",
   "id": "e182f511-af98-4511-b013-8a6836a0bf5c",
   "metadata": {
    "tags": []
   },
   "source": [
    "##### 1. Numeric"
   ]
  },
  {
   "cell_type": "code",
   "execution_count": 1,
   "id": "40a96fc0-e170-4e44-bdbf-fafc2096a03b",
   "metadata": {},
   "outputs": [
    {
     "name": "stdout",
     "output_type": "stream",
     "text": [
      "<class 'int'>\n",
      "<class 'float'>\n",
      "<class 'float'>\n",
      "<class 'complex'> Easter Egg "
     ]
    }
   ],
   "source": [
    "intNum = 5            # No Size limit\n",
    "floatNum = 5.0        # 16 bytes size out of which 15 are used for digits\n",
    "eFloatNum = 5e4       # can also be 5.0e4 or 5.0E4\n",
    "complexNum = 2 + 4j\n",
    "print(type(intNum), type(floatNum), type(eFloatNum), type(complexNum), end = ' Easter Egg ',sep = '\\n')"
   ]
  },
  {
   "cell_type": "markdown",
   "id": "82917590-1798-49af-96b3-a278c0b717d7",
   "metadata": {
    "tags": []
   },
   "source": [
    "##### 2. Sequence - Ordered collection of similar or different data types"
   ]
  },
  {
   "cell_type": "code",
   "execution_count": 2,
   "id": "bb8cbf8d-022c-43f1-9d20-c08cf3e949b8",
   "metadata": {},
   "outputs": [
    {
     "name": "stdout",
     "output_type": "stream",
     "text": [
      "using single quotes <class 'str'>\n",
      "a <class 'str'>\n",
      "Triple Quotes\n",
      "    Allow\n",
      "        Multiple Line <class 'str'>\n"
     ]
    }
   ],
   "source": [
    "#Strings - Array of bytes representing unicode characters\n",
    "string1 = 'using single quotes'    #Single and Double quotes can be used interchanagbly\n",
    "string2 = \"a\"\n",
    "string3 = \"\"\"Triple Quotes\n",
    "    Allow\n",
    "        Multiple Line\"\"\"\n",
    "print(string1, type(string1))\n",
    "print(string2, type(string2))\n",
    "print(string3, type(string3))"
   ]
  },
  {
   "cell_type": "code",
   "execution_count": 3,
   "id": "0fd8bdc5-65b2-4afa-a451-fc0e9371b9d5",
   "metadata": {},
   "outputs": [
    {
     "name": "stdout",
     "output_type": "stream",
     "text": [
      "[] <class 'list'>\n",
      "['Hello', 'World'] <class 'list'>\n",
      "['a', 1, 8.0, False, ['Nested List']] <class 'list'>\n"
     ]
    }
   ],
   "source": [
    "#List - Collection of similar or different types of data\n",
    "emptyList = []\n",
    "normalList = [\"Hello\",\"World\"]\n",
    "mixList = ['a', 1, 8.0, False,[\"Nested List\"]]\n",
    "print(emptyList,type(emptyList))\n",
    "print(normalList, type(normalList))\n",
    "print(mixList, type(mixList))"
   ]
  },
  {
   "cell_type": "code",
   "execution_count": 4,
   "id": "ccf977f4-e73b-4c49-96b4-8bce883f9eeb",
   "metadata": {},
   "outputs": [
    {
     "name": "stdout",
     "output_type": "stream",
     "text": [
      "() <class 'tuple'>\n",
      "('Hello', 'World') <class 'tuple'>\n",
      "('a', 1, [8.0], False, 'Nested Tuple') <class 'tuple'>\n",
      "('a',) <class 'tuple'>\n",
      "(1) Treated as  <class 'int'>\n"
     ]
    }
   ],
   "source": [
    "#Tuple - Immutable Collection of similar or different types of data\n",
    "emptyTuple = ()\n",
    "normalTuple = (\"Hello\",\"World\")\n",
    "mixTuple = ('a', 1, [8.0], False,(\"Nested Tuple\"))\n",
    "singleElementTuple = ('a',)        # Comma must always be used to create single element tuple\n",
    "print(emptyTuple,type(emptyTuple))\n",
    "print(normalTuple, type(normalTuple))\n",
    "print(mixTuple, type(mixTuple))\n",
    "print(singleElementTuple, type(singleElementTuple))\n",
    "print(\"(1) Treated as \",type((1)))  # without comma paranthesis are ignored"
   ]
  },
  {
   "cell_type": "raw",
   "id": "ef231d2c-937c-48e2-8147-ca9ac15ea7d2",
   "metadata": {},
   "source": [
    "List\n",
    "    - Mutable\n",
    "    - Iteration implecation is slower\n",
    "    - Better for insertion and deletion operations\n",
    "    - Consume more memory\n",
    "Tuple\n",
    "    - Immutable\n",
    "    - Iteration implecation is faster\n",
    "    - Appropriate for accessing elements\n",
    "    - Consume less memory"
   ]
  },
  {
   "cell_type": "markdown",
   "id": "7d5bee7d-1b84-4de6-b1dd-69ceed0020d7",
   "metadata": {
    "jp-MarkdownHeadingCollapsed": true,
    "tags": []
   },
   "source": [
    "##### 3. Boolean"
   ]
  },
  {
   "cell_type": "code",
   "execution_count": 5,
   "id": "baf48169-4836-4d43-a6d2-f5b52d3f64fa",
   "metadata": {},
   "outputs": [
    {
     "name": "stdout",
     "output_type": "stream",
     "text": [
      "<class 'bool'> <class 'bool'>\n"
     ]
    }
   ],
   "source": [
    "trueBool = True\n",
    "falseBool = False\n",
    "print(type(trueBool),type(falseBool))"
   ]
  },
  {
   "cell_type": "markdown",
   "id": "5e368f64-9c07-404f-b7f4-506979c10f0e",
   "metadata": {
    "jp-MarkdownHeadingCollapsed": true,
    "tags": []
   },
   "source": [
    "##### 4. Dictionary - Unordered collection of key : value pair"
   ]
  },
  {
   "cell_type": "code",
   "execution_count": 6,
   "id": "64cf7eb3-c56d-4045-bbca-c657b029212a",
   "metadata": {},
   "outputs": [
    {
     "name": "stdout",
     "output_type": "stream",
     "text": [
      "{} <class 'dict'>\n",
      "{1: 'One', 2: 'Two', 3: 'Four'} <class 'dict'>\n",
      "{1.0: 'Float', 'two': 'string', 3: ['a', 'b', 'c'], 4: {'x': 'y'}} <class 'dict'>\n"
     ]
    }
   ],
   "source": [
    "emptyDict = {}\n",
    "normalDict = {1:\"One\", 2:\"Two\", 3:\"Three\", 3:\"Four\"}     # latest value of same key will be updated\n",
    "mixDict = {1.0:'Float',\"two\":\"string\",3:['a','b','c'],4:{'x':'y'}}\n",
    "print(emptyDict, type(emptyDict))\n",
    "print(normalDict, type(normalDict))\n",
    "print(mixDict, type(mixDict))"
   ]
  },
  {
   "cell_type": "markdown",
   "id": "827fed2c-6dcc-427f-bba0-1ce8316232a3",
   "metadata": {
    "jp-MarkdownHeadingCollapsed": true,
    "tags": []
   },
   "source": [
    "##### 5. Set - Unordered, Iterable, Mutable collection of data with no duplicate elements"
   ]
  },
  {
   "cell_type": "code",
   "execution_count": 7,
   "id": "59138125-3d9d-460b-b5ba-8477e2fb22f3",
   "metadata": {},
   "outputs": [
    {
     "name": "stdout",
     "output_type": "stream",
     "text": [
      "set() <class 'set'>\n",
      "{'b', '.', 'C', 'A', 'a', '1'} <class 'set'>\n",
      "{1, 2, 3, 4, 'b', 6, 'a'} <class 'set'>\n"
     ]
    }
   ],
   "source": [
    "emptySet = set()\n",
    "stringSet = set(\"AAabbCC11..\")\n",
    "lstSet = set([1,2,3,'a',3,4,'a',6,'b'])\n",
    "print(emptySet,type(emptySet))\n",
    "print(stringSet,type(stringSet))\n",
    "print(lstSet,type(lstSet))\n",
    "      "
   ]
  },
  {
   "cell_type": "markdown",
   "id": "1b4f915c-5299-45eb-ab3c-391e98563ac5",
   "metadata": {
    "jp-MarkdownHeadingCollapsed": true,
    "tags": []
   },
   "source": [
    "##### *. None - Used to define a null value or null object, instance of class NoneType"
   ]
  },
  {
   "cell_type": "code",
   "execution_count": 8,
   "id": "b51285a8-17f3-4b53-bb91-60cb9f2fcaf2",
   "metadata": {},
   "outputs": [
    {
     "name": "stdout",
     "output_type": "stream",
     "text": [
      "<class 'NoneType'> None\n"
     ]
    }
   ],
   "source": [
    "x = None\n",
    "print(type(x),x)"
   ]
  },
  {
   "cell_type": "markdown",
   "id": "348b7db1-eedd-494e-8bda-d6f98bdfeb3e",
   "metadata": {
    "jp-MarkdownHeadingCollapsed": true,
    "tags": []
   },
   "source": [
    "### Data Type Conversion"
   ]
  },
  {
   "cell_type": "code",
   "execution_count": 9,
   "id": "e097d150-edbd-48e8-b5e3-b931500f9dc3",
   "metadata": {},
   "outputs": [
    {
     "name": "stdout",
     "output_type": "stream",
     "text": [
      "String <class 'str'>\n",
      "String to Int <class 'int'>\n",
      "String to Float <class 'float'>\n",
      "String to Complex <class 'complex'>\n",
      "\n",
      "Integer <class 'int'>\n",
      "Integer to String <class 'str'>\n",
      "\n",
      "String <class 'str'>\n",
      "String to List ['S', 't', 'r', 'i', 'n', 'g'] <class 'list'>\n",
      "\n",
      "String <class 'str'>\n",
      "String to Tuple ('S', 't', 'r', 'i', 'n', 'g') <class 'tuple'>\n",
      "\n",
      "False\n",
      "False\n",
      "False\n",
      "False\n",
      "False\n",
      "False\n",
      "True\n",
      "True\n",
      "True\n",
      "True\n",
      "True\n",
      "True True\n",
      "\n",
      "{1: 'a', 2: 'b', 3: 'c'} <class 'dict'>\n"
     ]
    }
   ],
   "source": [
    "print(\"String\",type('2'))\n",
    "print(\"String to Int\",type(int('2')))\n",
    "print(\"String to Float\",type(float('2.0')))\n",
    "print(\"String to Complex\",type(complex('4+5j')),end='\\n\\n')\n",
    "\n",
    "print(\"Integer\",type(6))\n",
    "print(\"Integer to String\",type(str(6)),end='\\n\\n')       #can convert any datatype to string\n",
    "\n",
    "print(\"String\",type('String'))\n",
    "print(\"String to List\",list(\"String\"),type(list(\"String\")),end='\\n\\n')     #can convert any datatype to list\n",
    "\n",
    "print(\"String\",type('String'))\n",
    "print(\"String to Tuple\",tuple(\"String\"),type(tuple(\"String\")),end='\\n\\n')  #can convert any datatype to tuple\n",
    "\n",
    "print(bool()) \n",
    "print(bool(''))\n",
    "print(bool(0))\n",
    "print(bool(0.0))\n",
    "print(bool([]))\n",
    "print(bool(None))          # any empty or zero value will result in False\n",
    "\n",
    "print(bool(1)) \n",
    "print(bool('a'))\n",
    "print(bool(-1))          # any non-empty value will result in True\n",
    "print(bool(0.1))\n",
    "print(bool([\"Value\"]))\n",
    "print(bool(not(None)),not(None),end='\\n\\n')    # value of not(None) is boolean True\n",
    "\n",
    "print(dict([(1,\"a\"),(2,\"b\"),(3,\"c\")]),type(dict([(1,\"a\"),(2,\"b\"),(3,\"c\")])))    # usinh each item as key-value pair\n",
    "\n",
    "# Sets coversion is shown in set data type"
   ]
  }
 ],
 "metadata": {
  "kernelspec": {
   "display_name": "Python 3 (ipykernel)",
   "language": "python",
   "name": "python3"
  },
  "language_info": {
   "codemirror_mode": {
    "name": "ipython",
    "version": 3
   },
   "file_extension": ".py",
   "mimetype": "text/x-python",
   "name": "python",
   "nbconvert_exporter": "python",
   "pygments_lexer": "ipython3",
   "version": "3.11.0"
  }
 },
 "nbformat": 4,
 "nbformat_minor": 5
}
