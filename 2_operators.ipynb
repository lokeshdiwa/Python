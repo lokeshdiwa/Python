{
 "cells": [
  {
   "cell_type": "markdown",
   "id": "c4d5ad2a-becf-4ab3-ad17-3e2c238acc33",
   "metadata": {},
   "source": [
    "# Python Basics"
   ]
  },
  {
   "cell_type": "markdown",
   "id": "3fbe4a92-b411-4273-a5a2-6536d50f96b7",
   "metadata": {},
   "source": [
    "### Operators"
   ]
  },
  {
   "cell_type": "markdown",
   "id": "b4a0d7be-3024-45dc-801a-564cdb417503",
   "metadata": {},
   "source": [
    "##### Arithmetic Operators"
   ]
  },
  {
   "cell_type": "code",
   "execution_count": 3,
   "id": "2f68f447-9835-44e3-9e4d-04e22bce0ed2",
   "metadata": {},
   "outputs": [
    {
     "name": "stdout",
     "output_type": "stream",
     "text": [
      "x + y = 13\n",
      "x - y = 9\n",
      "x * y = 22\n",
      "x / y = 5.5\n",
      "x % y = 1\n",
      "x // y = 5\n",
      "x ** y = 121\n"
     ]
    }
   ],
   "source": [
    "x,y = 11,2\n",
    "print(\"x + y =\", x+y)      # Addition\n",
    "print(\"x - y =\", x-y)      # Subtraction\n",
    "print(\"x * y =\", x*y)      # Multiplication\n",
    "print(\"x / y =\", x/y)      # Division - Always results in float\n",
    "print(\"x % y =\", x%y)      # Modulus - Show remainder\n",
    "print(\"x // y =\", x//y)    # Floor Division - Floor whole number value of Division e.g -5//2 = -3\n",
    "print(\"x ** y =\", x**y)    # Exponent - x raised to power of y"
   ]
  },
  {
   "cell_type": "code",
   "execution_count": 59,
   "id": "c95bddb3-d2ce-4298-a6ca-17e848740bf1",
   "metadata": {},
   "outputs": [
    {
     "name": "stdout",
     "output_type": "stream",
     "text": [
      "500000001.0\n",
      "50000000000000000\n",
      "50000000000000001\n",
      "World 5000000000000000000000\n"
     ]
    }
   ],
   "source": [
    "# Single division operator behaves abnormally generally for very large numbers\n",
    "print(1000000002/2)               # single division\n",
    "print(int(((10 ** 17) + 2)/2))    # Gives wrong output\n",
    "print(((10 ** 17) + 2)//2)        # Gives Correct output\n",
    "\n",
    "x = 10000000000000000000006\n",
    "if int(x / 2) == x // 2:          # x/2 = 5e+21 and int(5e+21) = 5000000000000000000000\n",
    "    print(\"Hello\")\n",
    "else:\n",
    "    print(\"World\")"
   ]
  },
  {
   "cell_type": "markdown",
   "id": "e7e40621-e7cb-46a6-8df1-e70b4e429efc",
   "metadata": {},
   "source": [
    "##### Comparison Operator - Returns either True or False"
   ]
  },
  {
   "cell_type": "code",
   "execution_count": 7,
   "id": "cd3942ab-8161-4405-9a10-97b01de006ce",
   "metadata": {},
   "outputs": [
    {
     "name": "stdout",
     "output_type": "stream",
     "text": [
      "x < y = False\n",
      "x > y = False\n",
      "x == y = True\n",
      "x != y = False\n",
      "x <= y = True\n",
      "x >= y = True\n"
     ]
    }
   ],
   "source": [
    "x=y=4      # x,y = 4 will give error\n",
    "print(\"x < y =\", x<y)        # Less Than (x<y<z means x<y and y<z)\n",
    "print(\"x > y =\", x>y)        # Greater Than\n",
    "print(\"x == y =\", x==y)      # Equal To\n",
    "print(\"x != y =\", x!=y)      # Not Equal To\n",
    "print(\"x <= y =\", x<=y)      # Less Than Equal To\n",
    "print(\"x >= y =\", x>=y)      # Greater Than Equal To\n"
   ]
  },
  {
   "cell_type": "markdown",
   "id": "7a09f24b-e2f3-47a2-b613-330739a89b85",
   "metadata": {},
   "source": [
    "##### Logical Operator"
   ]
  },
  {
   "cell_type": "code",
   "execution_count": 9,
   "id": "69e5bab4-b179-4930-bc68-87eec576d320",
   "metadata": {},
   "outputs": [
    {
     "name": "stdout",
     "output_type": "stream",
     "text": [
      "x and y = False\n",
      "x or y = True\n",
      "not x = False\n"
     ]
    }
   ],
   "source": [
    "x,y = True,False\n",
    "print(\"x and y =\", x and y)     # True if both operands are True\n",
    "print(\"x or y =\", x or y)       # True if either operands is True\n",
    "print(\"not x =\", not x)         # Complements the operand"
   ]
  },
  {
   "cell_type": "markdown",
   "id": "9782c8d6-a7e0-4d96-8b9d-be35d114c328",
   "metadata": {},
   "source": [
    "##### Bitwise Operator - Treat operands as strings of binary digits, operate bit by bit\n",
    "##### Note: Only works on integer"
   ]
  },
  {
   "cell_type": "code",
   "execution_count": 12,
   "id": "dfaa1cdf-8e75-42aa-83a4-31b08dcfbb2f",
   "metadata": {},
   "outputs": [
    {
     "name": "stdout",
     "output_type": "stream",
     "text": [
      "x & y = 0\n",
      "x | y = 14\n",
      "x ^ y = 14\n",
      "~ x = -11\n",
      "x >> 2 = 2\n",
      "x << 2 = 40\n"
     ]
    }
   ],
   "source": [
    "x,y = 10,4  # x = 10 (0000 1010 in binary) and y = 4 (0000 0100 in binary)\n",
    "print(\"x & y =\", x & y)    # Bitwise AND (0000 0000)\n",
    "print(\"x | y =\", x | y)    # Bitwise OR (0000 1110)\n",
    "print(\"x ^ y =\", x ^ y)    # Bitwise XOR (0000 1110), 1 in case of odd no's of 1\n",
    "print(\"~ x =\", ~ x)        # Bitwise NOT (1111 0101)\n",
    "print(\"x >> 2 =\", x >> 2)  # Bitwise RIGHT SHIFT (0000 0010)\n",
    "print(\"x << 2 =\", x << 2)  # Bitwise LEFT SHIFT (0010 1000)"
   ]
  },
  {
   "cell_type": "markdown",
   "id": "f9e13cef-883a-4673-8c21-c7d61b0da1a7",
   "metadata": {},
   "source": [
    "##### Assignment Operator - assigns value to the variable"
   ]
  },
  {
   "cell_type": "code",
   "execution_count": 46,
   "id": "65a94dad-b5eb-4348-a8cd-f99d4b761c64",
   "metadata": {},
   "outputs": [],
   "source": [
    "x = 5     # 5\n",
    "x += 1    # x = x + 1, 6\n",
    "x -= 1    # 5\n",
    "x *= 2    # 10\n",
    "x /= 2    # 5.0\n",
    "x %= 2    # 0.0\n",
    "x //= 4   # 0.0 because float floor divison returns floored float\n",
    "x = 2.0\n",
    "x **= 2   # 4.0\n",
    "x = int(x)\n",
    "x &= 4     # 4\n",
    "x |= 2     # 6\n",
    "x ^= 2     # 4\n",
    "x <<= 2    # 16\n",
    "x >>= 2    # 4"
   ]
  },
  {
   "cell_type": "markdown",
   "id": "fecbf020-fc73-4f82-af45-4a10b56e957b",
   "metadata": {},
   "source": [
    "##### Special Operator"
   ]
  },
  {
   "cell_type": "code",
   "execution_count": 50,
   "id": "368509fb-21fa-45ca-a00b-11aec5e269be",
   "metadata": {},
   "outputs": [
    {
     "name": "stdout",
     "output_type": "stream",
     "text": [
      "x1 is not y1 False\n",
      "x2 is y2 True\n",
      "x3 is y3 False\n"
     ]
    }
   ],
   "source": [
    "# Identity Operator - check if two values (variables) are located at same part of memory\n",
    "#                       i.e refers if two objects are same or not\n",
    "#                       returns either True or False\n",
    "x1 = 5\n",
    "y1 = 5\n",
    "x2 = \"Hello\"\n",
    "y2 = 'Hello'\n",
    "x3 = [1,2,3]\n",
    "y3 = [1,2,3]\n",
    "print(\"x1 is not y1\", x1 is not y1) # False\n",
    "print(\"x2 is y2\", x2 is y2)         # True because same string\n",
    "print(\"x3 is y3\", x3 is y3)         # False because interpreter locates them seperately in memory\n"
   ]
  },
  {
   "cell_type": "code",
   "execution_count": 54,
   "id": "933dd34a-44f5-4e8b-8580-2f6ac4f0e119",
   "metadata": {},
   "outputs": [
    {
     "name": "stdout",
     "output_type": "stream",
     "text": [
      "\"H\" in x : True\n",
      "'hello' not in x : True\n",
      "1 in y : True\n",
      "'a' in y : False\n"
     ]
    }
   ],
   "source": [
    "# Membership Operator - test whether a value or variable is found in collection data type\n",
    "#                        returns either True or False\n",
    "#                       In dictionary only keys presence can be tested\n",
    "x = \"Hello World\"\n",
    "y = {1:'a', 2:'b'}\n",
    "print('\"H\" in x :', \"H\" in x)                  # True\n",
    "print(\"'hello' not in x :\",'hello' not in x)   # True\n",
    "print('1 in y :', 1 in y)                      # True\n",
    "print(\"'a' in y :\", 'a' in y)                  # False, because can't test presence of dictionary values"
   ]
  },
  {
   "cell_type": "markdown",
   "id": "c16471d5-4f41-4ebf-98c6-aa205cc99f2e",
   "metadata": {},
   "source": [
    "### "
   ]
  },
  {
   "cell_type": "raw",
   "id": "0550e2e3-0f99-4937-ba6c-506047a4bc23",
   "metadata": {},
   "source": [
    "   L->R    Parentheses\n",
    "   R->L *  Exponentiation\n",
    "   L->R    Unary Plus | Unary Minus | Bitwise NOT\n",
    "   L->R    Multiplication | Division  |  Floor Divison | Modulus\n",
    "   L->R    Addition | Subtraction\n",
    "   L->R    Bitwise Shift Operators\n",
    "   L->R    Bitwise AND\n",
    "   L->R    Bitwise XOR\n",
    "   L->R    Bitwise OR\n",
    "   L->R    Comparisons | Identity | Membership Operators\n",
    "   R->L *  Logical NOT\n",
    "   L->R    Logical AND\n",
    "   L->R    Logical OR\n",
    "   L->R    If Else\n",
    "   L->R    Lambda\n",
    "   R->L *  Assignment Operators"
   ]
  }
 ],
 "metadata": {
  "kernelspec": {
   "display_name": "Python 3 (ipykernel)",
   "language": "python",
   "name": "python3"
  },
  "language_info": {
   "codemirror_mode": {
    "name": "ipython",
    "version": 3
   },
   "file_extension": ".py",
   "mimetype": "text/x-python",
   "name": "python",
   "nbconvert_exporter": "python",
   "pygments_lexer": "ipython3",
   "version": "3.11.0"
  }
 },
 "nbformat": 4,
 "nbformat_minor": 5
}
