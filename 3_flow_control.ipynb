{
 "cells": [
  {
   "cell_type": "markdown",
   "id": "ca2a6b43-790b-4faf-a430-e234ee12499a",
   "metadata": {},
   "source": [
    "### Conditional Statements"
   ]
  },
  {
   "cell_type": "code",
   "execution_count": 1,
   "id": "08bb0fb6-f71e-40b1-b17d-362d9b0ce51f",
   "metadata": {},
   "outputs": [
    {
     "name": "stdout",
     "output_type": "stream",
     "text": [
      "Executed when if condition is True\n",
      "Combination of else and if\n",
      "Outside if else\n",
      "\n",
      "'True' Shorthand if\n",
      "'False' Notice no ':' after if else here\n",
      "2\n",
      "20\n",
      "10\n",
      "10\n",
      "b is greater than a\n",
      "True\n",
      "print\n",
      "Lokesh\n",
      "Yadav\n",
      "10\n"
     ]
    }
   ],
   "source": [
    "# Python interprets non-zero values as True. None and 0 are interpreted as False.\n",
    "if 5>3.0:\n",
    "    print(\"Executed when if condition is True\")\n",
    "    \n",
    "    if False or 0:\n",
    "        print(\"Nested if\")\n",
    "        \n",
    "    elif not None:\n",
    "        print(\"Combination of else and if\")\n",
    "        \n",
    "    else:\n",
    "        print(\"It is not neccessary to add else if not needed\")\n",
    "        \n",
    "else:\n",
    "    print(\"Executed when the corresponding if is False\")\n",
    "    \n",
    "print(\"Outside if else\", end='\\n\\n')\n",
    "\n",
    "\n",
    "\n",
    "if 3<4: print(\"'True' Shorthand if\")    \n",
    "\n",
    "print(\"'True' Shorthand if else\") if 3 > 4 else print(\"'False' Notice no ':' after if else here\")\n",
    "#  Also known as Ternary operator - [on_true] if [expression] else [on_false] \n",
    "# Ternary operator have lowest precedence\n",
    "\n",
    "x = 2 if 2 < 3 else 3\n",
    "print(x)\n",
    "\n",
    "#Ternary Operator Direct Method by using tuples, Dictionary, and lambda :-\n",
    "\n",
    "a, b = 10, 20\n",
    "\n",
    "# Use tuple for selecting an item\n",
    "# (if_test_false,if_test_true)[test]\n",
    "# if [a<b] is true it return 1, so element with 1 index will print\n",
    "# else if [a<b] is false it return 0, so element with 0 index will print\n",
    "print( (a, b) [ a < b] )\n",
    "\n",
    "# Use Dictionary for selecting an item\n",
    "# if [a < b] is true then value of True key will print\n",
    "# else if [a<b] is false then value of False key will print\n",
    "print({True: a, False: b} [a < b])\n",
    "\n",
    "# lambda is more efficient than above two methods\n",
    "# because in lambda  we are assure that\n",
    "# only one expression will be evaluated unlike in\n",
    "# tuple and Dictionary where both elements of tuple and dict are evaluated\n",
    "print((lambda: b, lambda: a)[a < b]())\n",
    "\n",
    "print (\"Both a and b are equal\" if a == b else \"a is greater than b\" \n",
    "       if a > b else \"b is greater than a\")         # nested Ternary\n",
    "\n",
    "print(True or \"print\") # Shorthand Ternary\n",
    "print(False or \"print\") # can be used to assign dynamic default value eg. below\n",
    "\n",
    "def my_function(real_name, optional_display_name=None):\n",
    "     optional_display_name = optional_display_name or real_name\n",
    "     print(optional_display_name)\n",
    "my_function(\"Lokesh\")\n",
    "my_function(\"Lokesh\", \"Yadav\")\n",
    "\n",
    "# Self implementation of Ternary Operator\n",
    "#[expression] and [on_true] or [on_false]\n",
    "print(a < b and a or b) \n",
    "#The only drawback of this method is that on_true must not be zero or False\n"
   ]
  },
  {
   "cell_type": "code",
   "execution_count": 2,
   "id": "4fb96e10-b8d5-4d65-a2f9-e152d4dee195",
   "metadata": {},
   "outputs": [
    {
     "name": "stdout",
     "output_type": "stream",
     "text": [
      "Branch will be executed if any of the three games get mached with variable value \n",
      "Can match tuples list and other sequences also\n",
      "will accept atleast any two values, show funcionality similar to unpacking assignment i.e (x,y) = variable \n",
      "combination of literals and variables, will take atleast 2 values to bind to x and y and rest will be binded into *z\n",
      "will accept atleast any two values, show funcionality similar to unpacking assignment i.e (x,y) = variable \n",
      "Will run if any of the above case pattern doesn't match\n"
     ]
    }
   ],
   "source": [
    "# match statement run faster than if-else ladder is more readable and manageable, require python 3.10 or above\n",
    "# Fallthrough doesn't happen unlike C++ switch therfore no break required\n",
    "def switch_functionality_in_python(variable):\n",
    "    match variable:         \n",
    "        \n",
    "        case \"Basketball\" | \"Football\" | \"Volleyball\":\n",
    "            print(\"Branch will be executed if any of the three games get mached with variable value \")\n",
    "            \n",
    "        case \"Chess\":\n",
    "            print(\"Branch will get executed if variable == Chess\")\n",
    "            \n",
    "        case (0,4):\n",
    "            print(\"Can match tuples list and other sequences also\")\n",
    "            \n",
    "        case (x,y):\n",
    "            print(f\"will accept atleast any two values, show funcionality similar to unpacking assignment i.e (x,y) = variable \")\n",
    "            \n",
    "        case (1,x,y,*z):        # ' *_ ' can be used if don't want to bind rest of the values to another variable\n",
    "            print(\"combination of literals and variables, will take atleast 2 values to bind to x and y and rest will be binded into *z\")\n",
    "            \n",
    "        case (x,y) if x > 5 > y:  # if condtion is also known as guard, This branch wll never run because case pattern 4 will match variable first\n",
    "            print(\"Will only run when guard results in True, Values will be captured before guard evaluation\")\n",
    "            \n",
    "        case _:        # optional, not neccesary to add everytime\n",
    "            print(\"Will run if any of the above case pattern doesn't match\")\n",
    "\n",
    "switch_functionality_in_python(\"Football\")\n",
    "switch_functionality_in_python((0,4))\n",
    "switch_functionality_in_python((5,'a'))\n",
    "switch_functionality_in_python((1, ['a','b','c'], \"string\", 4, 5)) # Need Atleast two argument apart from initial '1' to execute case block 5\n",
    "switch_functionality_in_python((8,3))\n",
    "switch_functionality_in_python([])"
   ]
  },
  {
   "cell_type": "markdown",
   "id": "96b1c58e-5051-4193-8a5e-d0ce40cbb27b",
   "metadata": {},
   "source": [
    "### Loops"
   ]
  },
  {
   "cell_type": "code",
   "execution_count": 3,
   "id": "eb94d856-ac79-4159-8720-ccd7bc61bd26",
   "metadata": {},
   "outputs": [
    {
     "name": "stdout",
     "output_type": "stream",
     "text": [
      "Counter Value = 2\n",
      "Value of i = 0\n",
      "Continue doesn't affect else statement execution\n",
      "Counter Value = 1\n",
      "Value of i = 0\n",
      "Continue doesn't affect else statement execution\n",
      "Executed every time after loop ends if break or exception are nit raised inside loop\n",
      "Single statement while block 1\n"
     ]
    }
   ],
   "source": [
    "counter = 2\n",
    "while counter > 0:\n",
    "    print(\"Counter Value =\",counter)\n",
    "    counter-=1\n",
    "    i = 1\n",
    "    while i:\n",
    "        i-=1\n",
    "        print(\"Value of i =\",i)\n",
    "        continue\n",
    "        print(\"This line won't execute because of continue above\")\n",
    "    else:\n",
    "        print(\"Continue doesn't affect else statement execution\")\n",
    "else:\n",
    "    print(\"Executed every time after loop ends if break or exception are nit raised inside loop\")\n",
    "    \n",
    "#The else clause is only executed when your while condition becomes false.\n",
    "#If you break out of the loop, or if an exception is raised, it won’t be executed. \n",
    "\n",
    "\n",
    "count = 0\n",
    "while (count == 0): print(\"Single statement while block\", count:=1)"
   ]
  },
  {
   "cell_type": "code",
   "execution_count": 4,
   "id": "237158a8-d128-4666-940f-15c7f255e483",
   "metadata": {},
   "outputs": [
    {
     "name": "stdout",
     "output_type": "stream",
     "text": [
      "key : value = 3 : a\n",
      "index : value in nested for 0 : p\n",
      "index : value in nested for 1 : q\n",
      "index : value in nested for 2 : r\n",
      "Outer for else is not affected by inner for break\n"
     ]
    }
   ],
   "source": [
    "dict={3:'a'}\n",
    "for key in dict:\n",
    "    print(\"key : value =\",key,\":\",dict[key])\n",
    "    for index,value in enumerate(['p','q','r']):\n",
    "        print(\"index : value in nested for\",index,\":\",value)\n",
    "        if index == 2:\n",
    "                break\n",
    "    else:\n",
    "        print(\"Nested for else not executed because of break\")\n",
    "else:\n",
    "    print(\"Outer for else is not affected by inner for break\")"
   ]
  }
 ],
 "metadata": {
  "kernelspec": {
   "display_name": "Python 3 (ipykernel)",
   "language": "python",
   "name": "python3"
  },
  "language_info": {
   "codemirror_mode": {
    "name": "ipython",
    "version": 3
   },
   "file_extension": ".py",
   "mimetype": "text/x-python",
   "name": "python",
   "nbconvert_exporter": "python",
   "pygments_lexer": "ipython3",
   "version": "3.11.0"
  }
 },
 "nbformat": 4,
 "nbformat_minor": 5
}
