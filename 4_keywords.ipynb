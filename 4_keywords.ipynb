{
 "cells": [
  {
   "cell_type": "markdown",
   "id": "6409903f-b72f-467a-a622-03f121697c34",
   "metadata": {
    "tags": []
   },
   "source": [
    "### Keywords - reserved words having special meaning and purpose"
   ]
  },
  {
   "cell_type": "code",
   "execution_count": 1,
   "id": "2fc3b7b5-3f91-4963-99da-4437f53d31af",
   "metadata": {},
   "outputs": [
    {
     "name": "stdout",
     "output_type": "stream",
     "text": [
      "Total python keywords: 35\n",
      "['False', 'None', 'True', 'and', 'as', 'assert', 'async', 'await', 'break', 'class', 'continue', 'def', 'del', 'elif', 'else', 'except', 'finally', 'for', 'from', 'global', 'if', 'import', 'in', 'is', 'lambda', 'nonlocal', 'not', 'or', 'pass', 'raise', 'return', 'try', 'while', 'with', 'yield']\n"
     ]
    }
   ],
   "source": [
    "import keyword\n",
    "\n",
    "python_keywords = keyword.kwlist\n",
    "print(\"Total python keywords:\",len(python_keywords))\n",
    "print(python_keywords)\n",
    "\n",
    "# in python everything is case sensetive which include keywords also"
   ]
  },
  {
   "cell_type": "markdown",
   "id": "84cac1de-478c-4107-a7f4-773be7e91cc6",
   "metadata": {},
   "source": [
    "##### 1. True"
   ]
  },
  {
   "cell_type": "code",
   "execution_count": 2,
   "id": "e7589430-420d-476e-a5bc-1ec8ae747bba",
   "metadata": {},
   "outputs": [
    {
     "name": "stdout",
     "output_type": "stream",
     "text": [
      "True\n",
      "3\n",
      "True\n"
     ]
    }
   ],
   "source": [
    "# Represent a boolean True\n",
    "print(True == 1)\n",
    "print(True + True + True)\n",
    "print(bool(\"Any Non-Zero Or Non-Empty Value\"))"
   ]
  },
  {
   "cell_type": "markdown",
   "id": "1ab47afd-27d3-45fc-a49c-47b36875a784",
   "metadata": {},
   "source": [
    "##### 2. False"
   ]
  },
  {
   "cell_type": "code",
   "execution_count": 3,
   "id": "74635d09-f522-4fcb-8b18-aa7f67c1b9e1",
   "metadata": {},
   "outputs": [
    {
     "name": "stdout",
     "output_type": "stream",
     "text": [
      "True\n",
      "1\n",
      "False\n",
      "False\n",
      "False\n"
     ]
    }
   ],
   "source": [
    "# Represent a boolean False\n",
    "print(False == 0)\n",
    "print(False + False + 1)\n",
    "print(bool(0.0))\n",
    "print(bool([]))\n",
    "print(bool(None))"
   ]
  },
  {
   "cell_type": "markdown",
   "id": "4f268aa3-b944-4410-afba-a146a256d23a",
   "metadata": {},
   "source": [
    "##### 3. None"
   ]
  },
  {
   "cell_type": "code",
   "execution_count": 4,
   "id": "cbc95fe1-df8b-4c56-a4f2-c3afffdeba36",
   "metadata": {},
   "outputs": [
    {
     "name": "stdout",
     "output_type": "stream",
     "text": [
      "False\n",
      "False\n",
      "False\n"
     ]
    }
   ],
   "source": [
    "# used to denote a null value or void, empty file and data types are not equivalent to None\n",
    "print(0 == None)\n",
    "print([] == None)\n",
    "print(False == None)\n",
    "# All variables that are assigned None point to the same object. New instances of None are not created."
   ]
  },
  {
   "cell_type": "markdown",
   "id": "8023fa7e-a830-45c0-aeda-64f329c0f170",
   "metadata": {},
   "source": [
    "##### 4. and"
   ]
  },
  {
   "cell_type": "code",
   "execution_count": 5,
   "id": "1294f108-b16f-4a80-bdbd-ce29adb132c2",
   "metadata": {},
   "outputs": [
    {
     "name": "stdout",
     "output_type": "stream",
     "text": [
      "False\n",
      "4\n",
      "0\n"
     ]
    }
   ],
   "source": [
    "# denotes logical and operator\n",
    "# Return the first False value. If not found return last\n",
    "print(False and True)\n",
    "print(3 and 4)\n",
    "print(2 and 0 and 1)"
   ]
  },
  {
   "cell_type": "markdown",
   "id": "5f8407a0-2bcf-4c46-abde-5216648dce2c",
   "metadata": {},
   "source": [
    "##### 5. or"
   ]
  },
  {
   "cell_type": "code",
   "execution_count": 6,
   "id": "fcc4fe54-a2f2-4021-bb61-666ab2451538",
   "metadata": {},
   "outputs": [
    {
     "name": "stdout",
     "output_type": "stream",
     "text": [
      "True\n",
      "3\n",
      "2\n"
     ]
    }
   ],
   "source": [
    "# denotes logical or operator\n",
    "# Return the first True value. If not found return last\n",
    "print(True or False)\n",
    "print(3 or 4)\n",
    "print(0 or 2 or 1)"
   ]
  },
  {
   "cell_type": "markdown",
   "id": "2d85dfde-0380-4409-83eb-faadd3ef3caf",
   "metadata": {},
   "source": [
    "##### 6. not"
   ]
  },
  {
   "cell_type": "code",
   "execution_count": 7,
   "id": "f287c5f1-8c30-4525-9c63-bcd1527f58d3",
   "metadata": {},
   "outputs": [
    {
     "name": "stdout",
     "output_type": "stream",
     "text": [
      "False\n",
      "True\n",
      "False\n",
      "True\n"
     ]
    }
   ],
   "source": [
    "# denotes logical not operator which inverse the values\n",
    "print(not True)\n",
    "print(not None)\n",
    "print(not -3)\n",
    "print(not {})"
   ]
  },
  {
   "cell_type": "markdown",
   "id": "56d03add-f963-4b08-886d-f972a759f44f",
   "metadata": {},
   "source": [
    "##### 7. in"
   ]
  },
  {
   "cell_type": "code",
   "execution_count": 8,
   "id": "7ee5697d-a085-4d1d-b6eb-773286d7fdb9",
   "metadata": {},
   "outputs": [
    {
     "name": "stdout",
     "output_type": "stream",
     "text": [
      "element is present\n",
      "1\n",
      "4\n",
      "27\n"
     ]
    }
   ],
   "source": [
    "# This keyword has two purposes\n",
    "# To check if a value is present in a container like list,tuple,string,range etc\n",
    "# To iterate through a container in a for loop\n",
    "if 'd' in \"india\":\n",
    "    print(\"element is present\")\n",
    "    \n",
    "for i in [1,2,3]:\n",
    "    print(i**i)\n"
   ]
  },
  {
   "cell_type": "markdown",
   "id": "0b4f2b85-cc3d-45f2-b69d-68323f5ccc4e",
   "metadata": {},
   "source": [
    "##### 8. is"
   ]
  },
  {
   "cell_type": "code",
   "execution_count": 9,
   "id": "4fa3203d-0471-41f1-b9da-64d693d38224",
   "metadata": {},
   "outputs": [
    {
     "name": "stdout",
     "output_type": "stream",
     "text": [
      "True\n",
      "False\n",
      "True\n"
     ]
    },
    {
     "name": "stderr",
     "output_type": "stream",
     "text": [
      "<>:5: SyntaxWarning: \"is\" with a literal. Did you mean \"==\"?\n",
      "<>:5: SyntaxWarning: \"is\" with a literal. Did you mean \"==\"?\n",
      "C:\\Users\\lokes\\AppData\\Local\\Temp\\ipykernel_24424\\1443863441.py:5: SyntaxWarning: \"is\" with a literal. Did you mean \"==\"?\n",
      "  print(' ' is ' ')\n"
     ]
    }
   ],
   "source": [
    "#  used to test object identity, i.e to check if both the objects take the same memory location or not\n",
    "\n",
    "# string is immutable( cannot be changed once allocated)\n",
    "# hence occupy same memory location\n",
    "print(' ' is ' ')\n",
    "  \n",
    "\n",
    "# dictionary is mutable( can be changed once allocated)\n",
    "# hence occupy different memory location\n",
    "print({} is {})\n",
    "print({} == {})"
   ]
  },
  {
   "cell_type": "markdown",
   "id": "0923235c-b1f3-40f6-9a24-dd766f9ca177",
   "metadata": {},
   "source": [
    "##### 9. for"
   ]
  },
  {
   "cell_type": "code",
   "execution_count": 10,
   "id": "9676e099-a20a-456a-b58a-c91bc59c42ec",
   "metadata": {},
   "outputs": [
    {
     "name": "stdout",
     "output_type": "stream",
     "text": [
      "0\n",
      "2\n"
     ]
    }
   ],
   "source": [
    "# it is used to control flow of program through looping\n",
    "for i in range(0,3,2):\n",
    "    print(i)"
   ]
  },
  {
   "cell_type": "markdown",
   "id": "76e8141b-0748-43e1-87ce-52b1d1defc41",
   "metadata": {},
   "source": [
    "##### 10. while"
   ]
  },
  {
   "cell_type": "code",
   "execution_count": 11,
   "id": "15be20a7-2e6b-424c-81cc-9c4e8feedff2",
   "metadata": {},
   "outputs": [
    {
     "name": "stdout",
     "output_type": "stream",
     "text": [
      "1\n"
     ]
    }
   ],
   "source": [
    "# similar to for keyword it is used for control flow and looping\n",
    "x=1\n",
    "while x==1:\n",
    "    print(x)\n",
    "    x-=1"
   ]
  },
  {
   "cell_type": "markdown",
   "id": "a5f5834e-7bc9-4753-8063-24af740f066f",
   "metadata": {},
   "source": [
    "##### 11. break"
   ]
  },
  {
   "cell_type": "code",
   "execution_count": 12,
   "id": "24da676b-2d5e-486c-aa56-85b63419c2d1",
   "metadata": {},
   "outputs": [
    {
     "name": "stdout",
     "output_type": "stream",
     "text": [
      "1\n",
      "2\n",
      "invoking break\n",
      "Control passed here\n"
     ]
    }
   ],
   "source": [
    "# controls the flow of the loop, when encountered it breaks out of the loop\n",
    "# and passes the control to the statement following immediately after the loop\n",
    "for x in (1,2,3):\n",
    "    print(x)\n",
    "    if x==2:\n",
    "        print(\"invoking break\")\n",
    "        break\n",
    "print(\"Control passed here\")"
   ]
  },
  {
   "cell_type": "markdown",
   "id": "b7e427c3-e01d-4bbc-b51d-868271791e0f",
   "metadata": {},
   "source": [
    "##### 12. continue"
   ]
  },
  {
   "cell_type": "code",
   "execution_count": 13,
   "id": "b35bb021-5cb4-4f74-9d2e-ea82f9d628e0",
   "metadata": {},
   "outputs": [
    {
     "name": "stdout",
     "output_type": "stream",
     "text": [
      "r\n",
      "i\n",
      "n\n",
      "g\n",
      "Outside loop\n"
     ]
    }
   ],
   "source": [
    "# controls the flow of the loop by skipping the current iteration of loop when encountered\n",
    "for char in \"string\":\n",
    "    if char == 's' or char == 't':\n",
    "        continue\n",
    "    print(char)\n",
    "print(\"Outside loop\")\n"
   ]
  },
  {
   "cell_type": "markdown",
   "id": "dc77ba87-a164-4dd3-8a7b-73400ea0a242",
   "metadata": {},
   "source": [
    "##### 13. if"
   ]
  },
  {
   "cell_type": "code",
   "execution_count": 14,
   "id": "7a685eae-4271-4a02-9226-f0582a12148e",
   "metadata": {},
   "outputs": [
    {
     "name": "stdout",
     "output_type": "stream",
     "text": [
      "Inside if block\n",
      "Outside if block\n"
     ]
    }
   ],
   "source": [
    "# control statement for decision making, when if expression results in truth\n",
    "# it forces the control inside if statement block\n",
    "if 4>3:\n",
    "    print(\"Inside if block\")\n",
    "print(\"Outside if block\")"
   ]
  },
  {
   "cell_type": "markdown",
   "id": "85b6c850-66ce-4e7d-8ff2-d5c453380330",
   "metadata": {},
   "source": [
    "##### 14. else"
   ]
  },
  {
   "cell_type": "code",
   "execution_count": 15,
   "id": "f08c3a10-e134-46b8-81b6-eb2e2dcdd225",
   "metadata": {},
   "outputs": [
    {
     "name": "stdout",
     "output_type": "stream",
     "text": [
      "Inside else block\n",
      "Outside if-else block\n"
     ]
    }
   ],
   "source": [
    "# control statement for decision making, when if expression results in false\n",
    "# control goes inside the else statement block\n",
    "if 4<3:\n",
    "    print(\"Inside if block\")\n",
    "else:\n",
    "    print(\"Inside else block\")\n",
    "print(\"Outside if-else block\")"
   ]
  },
  {
   "cell_type": "markdown",
   "id": "472952a1-3113-4e49-9749-8b2807bd4141",
   "metadata": {},
   "source": [
    "##### 15. elif"
   ]
  },
  {
   "cell_type": "code",
   "execution_count": 16,
   "id": "326d0708-ec49-414f-9f0b-17f2ce5aeedc",
   "metadata": {},
   "outputs": [
    {
     "name": "stdout",
     "output_type": "stream",
     "text": [
      "Inside elif block\n",
      "Outside if-else block\n"
     ]
    }
   ],
   "source": [
    "# shhort form of else-if, used to include further condition in else expression\n",
    "if 4<3:\n",
    "    print(\"Inside if block\")\n",
    "elif 2<3:\n",
    "    print(\"Inside elif block\")\n",
    "else:\n",
    "    print(\"Inside else block\")\n",
    "print(\"Outside if-else block\")"
   ]
  },
  {
   "cell_type": "markdown",
   "id": "23e0322c-6628-4315-855a-8ca6d9559753",
   "metadata": {},
   "source": [
    "##### 16. def"
   ]
  },
  {
   "cell_type": "code",
   "execution_count": 17,
   "id": "919023a3-8bbc-4106-855e-52860e68d4dc",
   "metadata": {},
   "outputs": [
    {
     "name": "stdout",
     "output_type": "stream",
     "text": [
      "Demo Function 5 abc\n"
     ]
    }
   ],
   "source": [
    "# used to declare user defined functions\n",
    "def demo(a,b):\n",
    "    print(\"Demo Function\",a,b)\n",
    "demo(5,'abc')"
   ]
  },
  {
   "cell_type": "markdown",
   "id": "3c87a493-67f2-47db-a1e1-5c4e02db8c9f",
   "metadata": {},
   "source": [
    "##### 17. return"
   ]
  },
  {
   "cell_type": "code",
   "execution_count": 18,
   "id": "b3fb18af-5e7c-462f-9365-873f55581af5",
   "metadata": {},
   "outputs": [
    {
     "name": "stdout",
     "output_type": "stream",
     "text": [
      "('Demo return value', 4)\n"
     ]
    }
   ],
   "source": [
    "# gives control back to the call statement from the called function\n",
    "# if expression is beside return then that expressions value is also returned to caller function\n",
    "# more than 1 values are returned in form of tuple automatically\n",
    "def return_demo():\n",
    "    return \"Demo return value\", 4      # can return any object including function itself\n",
    "print(return_demo())"
   ]
  },
  {
   "cell_type": "markdown",
   "id": "c3909df3-9139-4b3c-94cd-644e11160947",
   "metadata": {},
   "source": [
    "##### 18. yield"
   ]
  },
  {
   "cell_type": "code",
   "execution_count": 19,
   "id": "c0c00d15-5236-4ec3-add8-9565880b7d0a",
   "metadata": {},
   "outputs": [
    {
     "name": "stdout",
     "output_type": "stream",
     "text": [
      "1\n",
      "2\n",
      "3\n"
     ]
    }
   ],
   "source": [
    "# similar to return but instead of executing the whole function once\n",
    "# and returning all the values in one go yield returns a generator \n",
    "# which produce a series of value over time by suspending and resuming the function.\n",
    "def yield_demo():\n",
    "    x = 1\n",
    "    yield x\n",
    "    while True:\n",
    "        x+=1\n",
    "        yield x\n",
    "\n",
    "generator = yield_demo()\n",
    "for value in generator:\n",
    "    if value<=3:\n",
    "        print(value)\n",
    "    else:\n",
    "        break"
   ]
  },
  {
   "cell_type": "markdown",
   "id": "e593ef5b-fe55-4e2d-9f95-4c188905cfb8",
   "metadata": {},
   "source": [
    "##### 19. class"
   ]
  },
  {
   "cell_type": "code",
   "execution_count": 20,
   "id": "55859c79-3630-4c9e-b7db-06710ddb36f4",
   "metadata": {},
   "outputs": [
    {
     "name": "stdout",
     "output_type": "stream",
     "text": [
      "Attribute value\n"
     ]
    }
   ],
   "source": [
    "# used to declare user defined classes\n",
    "class Sample:\n",
    "    sample_attribute = \"Attribute value\"\n",
    "\n",
    "obj =  Sample()\n",
    "print(obj.sample_attribute)"
   ]
  },
  {
   "cell_type": "markdown",
   "id": "0e4ebc17-149c-407c-95f8-87f24042f492",
   "metadata": {},
   "source": [
    "##### 20. with"
   ]
  },
  {
   "cell_type": "code",
   "execution_count": 21,
   "id": "b8ab342d-2c05-465f-9350-b375f52ac998",
   "metadata": {},
   "outputs": [
    {
     "name": "stdout",
     "output_type": "stream",
     "text": [
      "File opened\n",
      "Data entered in file\n",
      "File closed\n"
     ]
    }
   ],
   "source": [
    "# used to wrap the execution of a block of code within methods defined by the context manager.\n",
    "# Context manager is a class that implements __enter__ and __exit__ methods. \n",
    "# Use of with statement ensures that the __exit__ method is called at the end of the nested block.\n",
    "\n",
    "with open('sample.txt','w') as my_file:\n",
    "    my_file.write(\"Hello World\")\n",
    "\n",
    "# First the __enter__ method is called, then the code within with statement is executed\n",
    "# and finally the __exit__ method is called. __exit__ method is called even if there is an error.\n",
    "\n",
    "# Supporting with statement in your objects will ensure that you never leave any resource open.\n",
    "\n",
    "# To use with statement in user defined objects\n",
    "# you only need to add the methods __enter__() and __exit__() in the object methods\n",
    "\n",
    "class my_open():\n",
    "    \n",
    "    def __init__(self,filename):\n",
    "        self.filename = filename\n",
    "    \n",
    "    def __enter__(self):\n",
    "        self.file = open(self.filename,'w')\n",
    "        print(\"File opened\")\n",
    "        return self.file\n",
    "    \n",
    "    def __exit__(self, exception_type, exception_value, traceback): # it accepts four arguments\n",
    "        self.file.close()\n",
    "        print(\"File closed\")\n",
    "        \n",
    "with my_open(\"sample.txt\") as my_file:\n",
    "    my_file.write(\"Hello world via user defined object\")\n",
    "    print(\"Data entered in file\")\n",
    "    "
   ]
  },
  {
   "cell_type": "markdown",
   "id": "4d49e0fc-972d-4d1c-b05f-95c2a579c3af",
   "metadata": {},
   "source": [
    "##### 21. as"
   ]
  },
  {
   "cell_type": "code",
   "execution_count": 22,
   "id": "5b5e63a2-e6fe-45c0-b87e-8c0730cfbc72",
   "metadata": {},
   "outputs": [
    {
     "name": "stdout",
     "output_type": "stream",
     "text": [
      "120\n",
      "Hello world via user defined object\n",
      "My error\n"
     ]
    }
   ],
   "source": [
    "# used to create an alias(gives different name) in python.\n",
    "\n",
    "# creating alias name for modules\n",
    "import math as alt_name\n",
    "print(alt_name.factorial(5))\n",
    "\n",
    "# used by the with keyword to make an alias for its a resource\n",
    "with open(\"sample.txt\") as filename:\n",
    "    print(filename.readline())\n",
    "    \n",
    "# used with except clause\n",
    "try:\n",
    "    raise Exception(\"My error\")\n",
    "except Exception as e:\n",
    "    print(e)"
   ]
  },
  {
   "cell_type": "markdown",
   "id": "c197295d-5aa8-4959-b0d3-abaf6d97506b",
   "metadata": {},
   "source": [
    "##### 22. pass"
   ]
  },
  {
   "cell_type": "code",
   "execution_count": 23,
   "id": "d970df80-61e0-4fb0-9d91-8930791943f9",
   "metadata": {},
   "outputs": [],
   "source": [
    "# pass is the null statement in python. Nothing happens when this is encountered. \n",
    "# This is used to prevent indentation errors and used as a placeholder.\n",
    "\n",
    "class Sample:\n",
    "    pass\n",
    "\n",
    "def sample():\n",
    "    pass\n",
    "\n",
    "if True:\n",
    "    pass\n",
    "\n",
    "for _ in (1,): \n",
    "    pass\n",
    "# difference between pass and comment is that comment is ignored by the interpreter whereas pass is not ignored.    "
   ]
  },
  {
   "cell_type": "markdown",
   "id": "0dd744d8-aef2-4d50-a6f6-bb2052bc733a",
   "metadata": {},
   "source": [
    "##### 23. lambda"
   ]
  },
  {
   "cell_type": "code",
   "execution_count": 24,
   "id": "9aba2f58-cd7a-487e-a5cd-46cb3a424911",
   "metadata": {},
   "outputs": [
    {
     "name": "stdout",
     "output_type": "stream",
     "text": [
      "<class 'function'>\n",
      "<function <lambda> at 0x0000023E82DA1B20>\n",
      "9.610000000000001\n",
      "ADBMAL NI YTILANOITCNUF FI GNIKCEHC\n",
      "adbmal ni ytilanoitcnuf esle gnikcehc\n"
     ]
    }
   ],
   "source": [
    "# Also known as Anonymous function (function that is defined without a name)\n",
    "# Can have any number of arguments but only one expression\n",
    "# That one expression values are captured and populated before execution i.e inline function\n",
    "\n",
    "print(type(lambda argument: expression)) # can be used anywhere where function object are required\n",
    "print(lambda : \"Hello\")                  # returns funcction object instead of value\n",
    "# print(lambda 'a': 3+2)                 # cant use literals in arguments\n",
    "\n",
    "square = lambda x: x*x                   # This function has no name,it returns a function object which is assigned to the identifier\n",
    "print(square(3.1))\n",
    "\n",
    "String_reverse = lambda x, string: string.upper()[::-1] if x else string.lower()[::-1]\n",
    "print(String_reverse(True,\"Checking if functionality in lambda\"))\n",
    "print(String_reverse(False,\"Checking else functionality in lambda\"))"
   ]
  },
  {
   "cell_type": "markdown",
   "id": "8fad9b99-7c37-438c-983b-d891332952dc",
   "metadata": {},
   "source": [
    "##### 24. import"
   ]
  },
  {
   "cell_type": "code",
   "execution_count": 25,
   "id": "9532ed76-5fc9-4f12-8675-4e28fb2145c3",
   "metadata": {},
   "outputs": [
    {
     "name": "stdout",
     "output_type": "stream",
     "text": [
      "6\n"
     ]
    }
   ],
   "source": [
    "# used to create a particular module into program\n",
    "# the required module will be first searched in current directory than in global directory\n",
    "\n",
    "import math\n",
    "print(math.factorial(3))"
   ]
  },
  {
   "cell_type": "markdown",
   "id": "a8c7f363-910a-423c-b955-a2e299741377",
   "metadata": {},
   "source": [
    "##### 25. from"
   ]
  },
  {
   "cell_type": "code",
   "execution_count": 26,
   "id": "fca66457-d6ff-4034-8f13-370898af2ed9",
   "metadata": {},
   "outputs": [
    {
     "name": "stdout",
     "output_type": "stream",
     "text": [
      "24\n",
      "35\n",
      "a\n",
      "b\n",
      "c\n"
     ]
    },
    {
     "ename": "Exception",
     "evalue": "Second Exception",
     "output_type": "error",
     "traceback": [
      "\u001b[1;31m---------------------------------------------------------------------------\u001b[0m",
      "\u001b[1;31mException\u001b[0m                                 Traceback (most recent call last)",
      "Cell \u001b[1;32mIn [26], line 17\u001b[0m\n\u001b[0;32m     16\u001b[0m \u001b[38;5;28;01mtry\u001b[39;00m:\n\u001b[1;32m---> 17\u001b[0m     \u001b[38;5;28;01mraise\u001b[39;00m \u001b[38;5;167;01mException\u001b[39;00m(\u001b[38;5;124m\"\u001b[39m\u001b[38;5;124mFirst Exception\u001b[39m\u001b[38;5;124m\"\u001b[39m)       \n\u001b[0;32m     18\u001b[0m \u001b[38;5;28;01mexcept\u001b[39;00m \u001b[38;5;167;01mException\u001b[39;00m \u001b[38;5;28;01mas\u001b[39;00m e:                       \n",
      "\u001b[1;31mException\u001b[0m: First Exception",
      "\nThe above exception was the direct cause of the following exception:\n",
      "\u001b[1;31mException\u001b[0m                                 Traceback (most recent call last)",
      "Cell \u001b[1;32mIn [26], line 19\u001b[0m\n\u001b[0;32m     17\u001b[0m     \u001b[38;5;28;01mraise\u001b[39;00m \u001b[38;5;167;01mException\u001b[39;00m(\u001b[38;5;124m\"\u001b[39m\u001b[38;5;124mFirst Exception\u001b[39m\u001b[38;5;124m\"\u001b[39m)       \n\u001b[0;32m     18\u001b[0m \u001b[38;5;28;01mexcept\u001b[39;00m \u001b[38;5;167;01mException\u001b[39;00m \u001b[38;5;28;01mas\u001b[39;00m e:                       \n\u001b[1;32m---> 19\u001b[0m     \u001b[38;5;28;01mraise\u001b[39;00m \u001b[38;5;167;01mException\u001b[39;00m(\u001b[38;5;124m\"\u001b[39m\u001b[38;5;124mSecond Exception\u001b[39m\u001b[38;5;124m\"\u001b[39m) \u001b[38;5;28;01mfrom\u001b[39;00m \u001b[38;5;21;01me\u001b[39;00m\n",
      "\u001b[1;31mException\u001b[0m: Second Exception"
     ]
    }
   ],
   "source": [
    "# used to import particular functionality, element from modules and containers respectively\n",
    "\n",
    "from math import factorial\n",
    "print(factorial(4))\n",
    "\n",
    "from math import *  # import every functionality\n",
    "print(ceil(34.5))  # import from math module (math.ceil())\n",
    "\n",
    "def from_containers():\n",
    "    yield from ['a','b','c']\n",
    "for i in from_containers():\n",
    "    print(i)\n",
    "\n",
    "# The keyword from allows to keep track of the caught exception e in the new excaption raised.\n",
    "# The exception e will be stored in the attribute __cause__ of the new exception.\n",
    "try:\n",
    "    raise Exception(\"First Exception\")       \n",
    "except Exception as e:                       \n",
    "    raise Exception(\"Second Exception\") from e"
   ]
  },
  {
   "cell_type": "markdown",
   "id": "6338c46b-25ff-4f67-abda-114cc0881a71",
   "metadata": {},
   "source": [
    "##### 26. try"
   ]
  },
  {
   "cell_type": "code",
   "execution_count": 27,
   "id": "cd26b103-6bdc-400c-972a-95e7357d6227",
   "metadata": {},
   "outputs": [
    {
     "name": "stdout",
     "output_type": "stream",
     "text": [
      "Programs doesn't stop due to ZeroDivisionError\n"
     ]
    }
   ],
   "source": [
    "# used to check code for error without halting the execution of program\n",
    "# the code inside the try block will only execute if no error are found\n",
    "try:\n",
    "    print(2/0)\n",
    "except:\n",
    "    pass\n",
    "print(\"Programs doesn't stop due to ZeroDivisionError\")"
   ]
  },
  {
   "cell_type": "markdown",
   "id": "5e76836c-0d13-40b7-9c91-19d90ae8267c",
   "metadata": {},
   "source": [
    "##### 27. except"
   ]
  },
  {
   "cell_type": "code",
   "execution_count": 28,
   "id": "0d42f61d-67ac-4f6c-993c-25a136a2037a",
   "metadata": {},
   "outputs": [
    {
     "name": "stdout",
     "output_type": "stream",
     "text": [
      "Will accept only ZeroDivison Error error\n",
      "Programs doesn't stop due to ZeroDivisionError\n"
     ]
    }
   ],
   "source": [
    "# works together with try clause\n",
    "# when any error occurs in try clause exception clause gets executed\n",
    "# a try statement can have  more than one except clause\n",
    "try:\n",
    "    print(2/0)\n",
    "except ZeroDivisionError:\n",
    "    print(\"Will accept only ZeroDivison Error error\")\n",
    "except:\n",
    "    print(\"Will accept any other error\")\n",
    "print(\"Programs doesn't stop due to ZeroDivisionError\")\n"
   ]
  },
  {
   "cell_type": "markdown",
   "id": "b32b709a-7149-4b54-8fe0-2b3382c3f4a5",
   "metadata": {},
   "source": [
    "##### 28. finally"
   ]
  },
  {
   "cell_type": "code",
   "execution_count": 29,
   "id": "d2d933d2-3371-43c2-b33d-1ece338400fa",
   "metadata": {},
   "outputs": [
    {
     "name": "stdout",
     "output_type": "stream",
     "text": [
      "Will accept only ZeroDivisonError error\n",
      "Always executed\n",
      "Programs doesn't stop due to ZeroDivisionError\n"
     ]
    }
   ],
   "source": [
    "# works together with try andexcept clause and placed in last \n",
    "# always gets executed no matter exception occured or not\n",
    "# Even if you return oe exit in the except block finally block will still execute\n",
    "# conventionally used for close object and clean up resources\n",
    "try:\n",
    "    print(2/0)\n",
    "except ZeroDivisionError:\n",
    "    print(\"Will accept only ZeroDivisonError error\")\n",
    "    #exit()       # to test finally ability to run always\n",
    "except:\n",
    "    print(\"Will accept any other error\")\n",
    "finally:\n",
    "    print(\"Always executed\")\n",
    "print(\"Programs doesn't stop due to ZeroDivisionError\")\n",
    "\n",
    "# Easter: else clause only execute when no exception occured unlike finally"
   ]
  },
  {
   "cell_type": "markdown",
   "id": "61647946-4adf-4457-90d1-783a369d116d",
   "metadata": {},
   "source": [
    "##### 29. raise"
   ]
  },
  {
   "cell_type": "code",
   "execution_count": 30,
   "id": "7579bbeb-5ac1-4d04-9e12-7528ece8390b",
   "metadata": {},
   "outputs": [
    {
     "ename": "Exception",
     "evalue": "Exception raised",
     "output_type": "error",
     "traceback": [
      "\u001b[1;31m---------------------------------------------------------------------------\u001b[0m",
      "\u001b[1;31mException\u001b[0m                                 Traceback (most recent call last)",
      "Cell \u001b[1;32mIn [30], line 4\u001b[0m\n\u001b[0;32m      1\u001b[0m \u001b[38;5;66;03m# used to raise error or exceptions\u001b[39;00m\n\u001b[0;32m      3\u001b[0m \u001b[38;5;28;01mif\u001b[39;00m \u001b[38;5;241m8\u001b[39m \u001b[38;5;241m%\u001b[39m \u001b[38;5;241m2\u001b[39m \u001b[38;5;241m==\u001b[39m \u001b[38;5;241m0\u001b[39m:\n\u001b[1;32m----> 4\u001b[0m     \u001b[38;5;28;01mraise\u001b[39;00m \u001b[38;5;167;01mException\u001b[39;00m(\u001b[38;5;124m\"\u001b[39m\u001b[38;5;124mException raised\u001b[39m\u001b[38;5;124m\"\u001b[39m)\n",
      "\u001b[1;31mException\u001b[0m: Exception raised"
     ]
    }
   ],
   "source": [
    "# used to raise error or exceptions\n",
    "\n",
    "if 8 % 2 == 0:\n",
    "    raise Exception(\"Exception raised\")   # we can also remove the message by simply using raise Exception\n",
    "\n"
   ]
  },
  {
   "cell_type": "code",
   "execution_count": 31,
   "id": "d7488c65-1941-4fa5-b628-edd7fc1e1b80",
   "metadata": {},
   "outputs": [
    {
     "ename": "TypeError",
     "evalue": "",
     "output_type": "error",
     "traceback": [
      "\u001b[1;31m---------------------------------------------------------------------------\u001b[0m",
      "\u001b[1;31mTypeError\u001b[0m                                 Traceback (most recent call last)",
      "Cell \u001b[1;32mIn [31], line 3\u001b[0m\n\u001b[0;32m      1\u001b[0m \u001b[38;5;66;03m# while raising error, error classes should be used like ValueError, ZeroDivisonError  \u001b[39;00m\n\u001b[0;32m      2\u001b[0m \u001b[38;5;28;01mif\u001b[39;00m \u001b[38;5;28mtype\u001b[39m(\u001b[38;5;124m\"\u001b[39m\u001b[38;5;124m5.0\u001b[39m\u001b[38;5;124m\"\u001b[39m) \u001b[38;5;129;01mis\u001b[39;00m \u001b[38;5;129;01mnot\u001b[39;00m \u001b[38;5;28mtype\u001b[39m(\u001b[38;5;28mint\u001b[39m()):\n\u001b[1;32m----> 3\u001b[0m     \u001b[38;5;28;01mraise\u001b[39;00m \u001b[38;5;167;01mTypeError\u001b[39;00m\n",
      "\u001b[1;31mTypeError\u001b[0m: "
     ]
    }
   ],
   "source": [
    "# while raising error, error classes should be used like ValueError, ZeroDivisonError  \n",
    "if type(\"5.0\") is not type(int()):\n",
    "    raise TypeError                 # we can also semd message in argument like exception"
   ]
  },
  {
   "cell_type": "code",
   "execution_count": 32,
   "id": "e4a3ad12-661f-4073-b263-647fa8ee30d4",
   "metadata": {},
   "outputs": [
    {
     "ename": "RuntimeError",
     "evalue": "No active exception to reraise",
     "output_type": "error",
     "traceback": [
      "\u001b[1;31m---------------------------------------------------------------------------\u001b[0m",
      "\u001b[1;31mRuntimeError\u001b[0m                              Traceback (most recent call last)",
      "Cell \u001b[1;32mIn [32], line 3\u001b[0m\n\u001b[0;32m      1\u001b[0m \u001b[38;5;66;03m# we can also remove the exception and error class to raise error\u001b[39;00m\n\u001b[0;32m      2\u001b[0m \u001b[38;5;66;03m# it will raise the latest active error or exception\u001b[39;00m\n\u001b[1;32m----> 3\u001b[0m \u001b[38;5;28;01mraise\u001b[39;00m\n",
      "\u001b[1;31mRuntimeError\u001b[0m: No active exception to reraise"
     ]
    }
   ],
   "source": [
    "# we can also remove the exception and error class to raise error\n",
    "# it will raise the latest active error or exception\n",
    "raise"
   ]
  },
  {
   "cell_type": "markdown",
   "id": "d4db1022-daa3-4a95-9e3d-21969fd577a8",
   "metadata": {},
   "source": [
    "##### 30. assert"
   ]
  },
  {
   "cell_type": "code",
   "execution_count": 33,
   "id": "bef4edcd-5e66-4b69-bb76-9e2943d43d69",
   "metadata": {},
   "outputs": [
    {
     "ename": "AssertionError",
     "evalue": "We can also add error message seperated by comma",
     "output_type": "error",
     "traceback": [
      "\u001b[1;31m---------------------------------------------------------------------------\u001b[0m",
      "\u001b[1;31mAssertionError\u001b[0m                            Traceback (most recent call last)",
      "Cell \u001b[1;32mIn [33], line 5\u001b[0m\n\u001b[0;32m      1\u001b[0m \u001b[38;5;66;03m# used for debugging purpose, to check the correctness of code\u001b[39;00m\n\u001b[0;32m      2\u001b[0m \u001b[38;5;66;03m#  If a statement is evaluated to be true, nothing happens, but when it is false, “AssertionError” is raised\u001b[39;00m\n\u001b[0;32m      4\u001b[0m \u001b[38;5;28;01massert\u001b[39;00m \u001b[38;5;241m3\u001b[39m\u001b[38;5;241m<\u001b[39m\u001b[38;5;241m4\u001b[39m  \u001b[38;5;66;03m# nothing happens\u001b[39;00m\n\u001b[1;32m----> 5\u001b[0m \u001b[38;5;28;01massert\u001b[39;00m \u001b[38;5;28;01mFalse\u001b[39;00m, \u001b[38;5;124m\"\u001b[39m\u001b[38;5;124mWe can also add error message seperated by comma\u001b[39m\u001b[38;5;124m\"\u001b[39m\n",
      "\u001b[1;31mAssertionError\u001b[0m: We can also add error message seperated by comma"
     ]
    }
   ],
   "source": [
    "# used for debugging purpose, to check the correctness of code\n",
    "#  If a statement is evaluated to be true, nothing happens, but when it is false, “AssertionError” is raised\n",
    "\n",
    "assert 3<4  # nothing happens\n",
    "assert False, \"We can also add error message seperated by comma\""
   ]
  },
  {
   "cell_type": "markdown",
   "id": "09e46663-a3a6-4ff9-ab82-100bafd6bb8e",
   "metadata": {},
   "source": [
    "##### 31. del"
   ]
  },
  {
   "cell_type": "code",
   "execution_count": 34,
   "id": "b31c63d9-a06f-4fbc-972f-421504bdef7d",
   "metadata": {},
   "outputs": [
    {
     "name": "stdout",
     "output_type": "stream",
     "text": [
      "y is 3\n"
     ]
    },
    {
     "ename": "NameError",
     "evalue": "name 'x' is not defined",
     "output_type": "error",
     "traceback": [
      "\u001b[1;31m---------------------------------------------------------------------------\u001b[0m",
      "\u001b[1;31mNameError\u001b[0m                                 Traceback (most recent call last)",
      "Cell \u001b[1;32mIn [34], line 8\u001b[0m\n\u001b[0;32m      6\u001b[0m \u001b[38;5;28;01mdel\u001b[39;00m x\n\u001b[0;32m      7\u001b[0m \u001b[38;5;28mprint\u001b[39m(\u001b[38;5;124m\"\u001b[39m\u001b[38;5;124my is\u001b[39m\u001b[38;5;124m\"\u001b[39m,y)\n\u001b[1;32m----> 8\u001b[0m \u001b[38;5;28mprint\u001b[39m(\u001b[38;5;124m\"\u001b[39m\u001b[38;5;124mx is\u001b[39m\u001b[38;5;124m\"\u001b[39m,\u001b[43mx\u001b[49m)\n",
      "\u001b[1;31mNameError\u001b[0m: name 'x' is not defined"
     ]
    }
   ],
   "source": [
    "# used to delete the reference to an object (Easter: everything is an object in python )\n",
    "# any variable, list element, dictionary key-value pair can be deleted by del\n",
    "\n",
    "# deleting variable\n",
    "x= y = 3\n",
    "del x\n",
    "print(\"y is\",y)\n",
    "print(\"x is\",x)"
   ]
  },
  {
   "cell_type": "code",
   "execution_count": 35,
   "id": "758dff4b-ee10-4e4d-af0e-66500c50dd62",
   "metadata": {},
   "outputs": [
    {
     "name": "stdout",
     "output_type": "stream",
     "text": [
      "<__main__.New object at 0x0000023E839D56D0>\n"
     ]
    },
    {
     "ename": "NameError",
     "evalue": "name 'New' is not defined",
     "output_type": "error",
     "traceback": [
      "\u001b[1;31m---------------------------------------------------------------------------\u001b[0m",
      "\u001b[1;31mNameError\u001b[0m                                 Traceback (most recent call last)",
      "Cell \u001b[1;32mIn [35], line 6\u001b[0m\n\u001b[0;32m      4\u001b[0m \u001b[38;5;28mprint\u001b[39m(New())\n\u001b[0;32m      5\u001b[0m \u001b[38;5;28;01mdel\u001b[39;00m New\n\u001b[1;32m----> 6\u001b[0m \u001b[38;5;28mprint\u001b[39m(\u001b[43mNew\u001b[49m())\n",
      "\u001b[1;31mNameError\u001b[0m: name 'New' is not defined"
     ]
    }
   ],
   "source": [
    "#  deleting class\n",
    "class New:\n",
    "    pass\n",
    "print(New())\n",
    "del New\n",
    "print(New())"
   ]
  },
  {
   "cell_type": "code",
   "execution_count": 36,
   "id": "cab1eb21-11ff-415c-a161-cf53122c43c7",
   "metadata": {},
   "outputs": [
    {
     "name": "stdout",
     "output_type": "stream",
     "text": [
      "[1, 3, 4]\n"
     ]
    },
    {
     "ename": "NameError",
     "evalue": "name 'lst' is not defined",
     "output_type": "error",
     "traceback": [
      "\u001b[1;31m---------------------------------------------------------------------------\u001b[0m",
      "\u001b[1;31mNameError\u001b[0m                                 Traceback (most recent call last)",
      "Cell \u001b[1;32mIn [36], line 7\u001b[0m\n\u001b[0;32m      4\u001b[0m \u001b[38;5;28mprint\u001b[39m(lst)\n\u001b[0;32m      6\u001b[0m \u001b[38;5;28;01mdel\u001b[39;00m lst\n\u001b[1;32m----> 7\u001b[0m \u001b[38;5;28mprint\u001b[39m(\u001b[43mlst\u001b[49m)\n",
      "\u001b[1;31mNameError\u001b[0m: name 'lst' is not defined"
     ]
    }
   ],
   "source": [
    "# deleting list element\n",
    "lst = [1,2,3,4]\n",
    "del lst[1]\n",
    "print(lst)\n",
    "\n",
    "del lst\n",
    "print(lst)"
   ]
  },
  {
   "cell_type": "code",
   "execution_count": 37,
   "id": "dfc9ada2-c184-470d-b0ed-4db4aeb864b0",
   "metadata": {},
   "outputs": [
    {
     "name": "stdout",
     "output_type": "stream",
     "text": [
      "{2: 'b', 3: 'c'}\n"
     ]
    },
    {
     "ename": "NameError",
     "evalue": "name 'dictionary' is not defined",
     "output_type": "error",
     "traceback": [
      "\u001b[1;31m---------------------------------------------------------------------------\u001b[0m",
      "\u001b[1;31mNameError\u001b[0m                                 Traceback (most recent call last)",
      "Cell \u001b[1;32mIn [37], line 7\u001b[0m\n\u001b[0;32m      4\u001b[0m \u001b[38;5;28mprint\u001b[39m(dictionary)\n\u001b[0;32m      6\u001b[0m \u001b[38;5;28;01mdel\u001b[39;00m dictionary\n\u001b[1;32m----> 7\u001b[0m \u001b[38;5;28mprint\u001b[39m(\u001b[43mdictionary\u001b[49m)\n",
      "\u001b[1;31mNameError\u001b[0m: name 'dictionary' is not defined"
     ]
    }
   ],
   "source": [
    "# deleting dictioonary key:value pair\n",
    "dictionary = {1:'a', 2:'b', 3:'c'}\n",
    "del dictionary[1]\n",
    "print(dictionary)\n",
    "\n",
    "del dictionary\n",
    "print(dictionary)"
   ]
  },
  {
   "cell_type": "markdown",
   "id": "333be8d8-463e-4525-856e-412c01a967e4",
   "metadata": {},
   "source": [
    "##### 32. global"
   ]
  },
  {
   "cell_type": "code",
   "execution_count": 38,
   "id": "65d57524-0349-41da-9b3b-371acbefaba1",
   "metadata": {},
   "outputs": [
    {
     "ename": "NameError",
     "evalue": "name 'local_variable' is not defined",
     "output_type": "error",
     "traceback": [
      "\u001b[1;31m---------------------------------------------------------------------------\u001b[0m",
      "\u001b[1;31mNameError\u001b[0m                                 Traceback (most recent call last)",
      "Cell \u001b[1;32mIn [38], line 22\u001b[0m\n\u001b[0;32m     19\u001b[0m     global_variable \u001b[38;5;241m+\u001b[39m\u001b[38;5;241m=\u001b[39m\u001b[38;5;241m1\u001b[39m\n\u001b[0;32m     20\u001b[0m     \u001b[38;5;28mprint\u001b[39m(global_variable)\n\u001b[1;32m---> 22\u001b[0m \u001b[38;5;28mprint\u001b[39m(\u001b[43mlocal_variable\u001b[49m)            \u001b[38;5;66;03m# will show error because of rule no. 1\u001b[39;00m\n\u001b[0;32m     24\u001b[0m fun()\n",
      "\u001b[1;31mNameError\u001b[0m: name 'local_variable' is not defined"
     ]
    }
   ],
   "source": [
    "# it allows us to modify the variable outside of the current scope\n",
    "# this keyword can be used to create a global variable and make changes to a global variable in local context.\n",
    "\n",
    "# global keyword rules :-\n",
    "#  1.  variable created inside a function is local by default\n",
    "#  2.  variable created outside a function is global by default. No need to use global keyword\n",
    "#  3.  variables that are refrenced inside  function are implicitally global\n",
    "#  4.  global keyword is used to modify global variable inside local\n",
    "#  5.  usage of global outside a dunction has no effect\n",
    "\n",
    "global_variable = 4              # rule no. 2\n",
    "\n",
    "def fun():\n",
    "    # print(global_variable)     # will work if we don't declare the global_variable using global below it\n",
    "    local_variable = 3\n",
    "    global global_variable       # rule no. 4\n",
    "    print(global_variable)       # rule no. 3\n",
    "    \n",
    "    global_variable +=1\n",
    "    print(global_variable)\n",
    "\n",
    "print(local_variable)            # will show error because of rule no. 1\n",
    "\n",
    "fun()"
   ]
  },
  {
   "cell_type": "markdown",
   "id": "b5407575-ea13-4c25-a162-8d480d9414c2",
   "metadata": {},
   "source": [
    "##### 33. nonlocal"
   ]
  },
  {
   "cell_type": "code",
   "execution_count": 39,
   "id": "a6313967-c8eb-428a-9d51-8491947a3c46",
   "metadata": {},
   "outputs": [
    {
     "name": "stdout",
     "output_type": "stream",
     "text": [
      "variable inside out_fun\n",
      "variable before calling in_fun 3\n",
      "nonlocal variable inside in_fun 3\n",
      "updated nonlocal variable inside in_fun 2\n",
      "variable after calling in_fun 2\n",
      "Inside out_foo 9\n",
      "Inside in_foo 16\n"
     ]
    }
   ],
   "source": [
    "# used in nested functions to reference a variable in the parent function\n",
    "# The nonlocal keyword won’t work on local or global variables \n",
    "# and therefore must be used to reference variables in another scope except the global and local one\n",
    "\n",
    "def out_fun():\n",
    "    \n",
    "    variable = 3\n",
    "    print(\"variable inside out_fun\")\n",
    "    \n",
    "    def in_fun():\n",
    "        \n",
    "        #global variable              # can't use global to access variable not in global scope \n",
    "        \n",
    "        #variable = 5                 # would create a local variable to in_fun and next line will throw error\n",
    "        nonlocal variable\n",
    "        print(\"nonlocal variable inside in_fun\",variable)\n",
    "        \n",
    "        variable = 2\n",
    "        print(\"updated nonlocal variable inside in_fun\",variable)\n",
    "        \n",
    "    print(\"variable before calling in_fun\",variable)   \n",
    "    in_fun()\n",
    "    print(\"variable after calling in_fun\",variable) \n",
    "\n",
    "out_fun()\n",
    "\n",
    "# if we declare any variable using global and nonlocal then the variable woth same name above the declaraation\n",
    "# will throw error \n",
    "# we can access any global or non local variable for read access without the using global and non local\n",
    "\n",
    "read_global_variable = 4\n",
    "def out_foo():\n",
    "    read_nonlocal_variable = 5\n",
    "    print(\"Inside out_foo\",read_global_variable + read_nonlocal_variable)\n",
    "    def in_foo():\n",
    "        print(\"Inside in_foo\",read_global_variable + read_nonlocal_variable + 7)\n",
    "    in_foo()\n",
    "out_foo()"
   ]
  },
  {
   "cell_type": "markdown",
   "id": "c9b81da0-5aa4-4434-b571-70c93603c913",
   "metadata": {},
   "source": [
    "##### 34. async"
   ]
  },
  {
   "cell_type": "code",
   "execution_count": 40,
   "id": "302f2cb9-244c-4d58-bada-d577353ccbb3",
   "metadata": {},
   "outputs": [
    {
     "ename": "RuntimeError",
     "evalue": "This event loop is already running",
     "output_type": "error",
     "traceback": [
      "\u001b[1;31m---------------------------------------------------------------------------\u001b[0m",
      "\u001b[1;31mRuntimeError\u001b[0m                              Traceback (most recent call last)",
      "Cell \u001b[1;32mIn [40], line 21\u001b[0m\n\u001b[0;32m     19\u001b[0m loop \u001b[38;5;241m=\u001b[39m asyncio\u001b[38;5;241m.\u001b[39mget_event_loop()     \u001b[38;5;66;03m# The get_event_loop returns an asyncio event loop.\u001b[39;00m\n\u001b[0;32m     20\u001b[0m                                     \u001b[38;5;66;03m# An event loop is needed to execute asynchronous code.\u001b[39;00m\n\u001b[1;32m---> 21\u001b[0m res \u001b[38;5;241m=\u001b[39m \u001b[43mloop\u001b[49m\u001b[38;5;241;43m.\u001b[39;49m\u001b[43mrun_until_complete\u001b[49m\u001b[43m(\u001b[49m\u001b[43mcouroutine_fun\u001b[49m\u001b[43m(\u001b[49m\u001b[43m)\u001b[49m\u001b[43m)\u001b[49m   \u001b[38;5;66;03m# Will throw a error in jupyter, run in python interpreter\u001b[39;00m\n\u001b[0;32m     22\u001b[0m loop\u001b[38;5;241m.\u001b[39mclose()\n",
      "File \u001b[1;32m~\\AppData\\Local\\Programs\\Python\\Python311\\Lib\\asyncio\\base_events.py:626\u001b[0m, in \u001b[0;36mBaseEventLoop.run_until_complete\u001b[1;34m(self, future)\u001b[0m\n\u001b[0;32m    615\u001b[0m \u001b[38;5;124;03m\"\"\"Run until the Future is done.\u001b[39;00m\n\u001b[0;32m    616\u001b[0m \n\u001b[0;32m    617\u001b[0m \u001b[38;5;124;03mIf the argument is a coroutine, it is wrapped in a Task.\u001b[39;00m\n\u001b[1;32m   (...)\u001b[0m\n\u001b[0;32m    623\u001b[0m \u001b[38;5;124;03mReturn the Future's result, or raise its exception.\u001b[39;00m\n\u001b[0;32m    624\u001b[0m \u001b[38;5;124;03m\"\"\"\u001b[39;00m\n\u001b[0;32m    625\u001b[0m \u001b[38;5;28mself\u001b[39m\u001b[38;5;241m.\u001b[39m_check_closed()\n\u001b[1;32m--> 626\u001b[0m \u001b[38;5;28;43mself\u001b[39;49m\u001b[38;5;241;43m.\u001b[39;49m\u001b[43m_check_running\u001b[49m\u001b[43m(\u001b[49m\u001b[43m)\u001b[49m\n\u001b[0;32m    628\u001b[0m new_task \u001b[38;5;241m=\u001b[39m \u001b[38;5;129;01mnot\u001b[39;00m futures\u001b[38;5;241m.\u001b[39misfuture(future)\n\u001b[0;32m    629\u001b[0m future \u001b[38;5;241m=\u001b[39m tasks\u001b[38;5;241m.\u001b[39mensure_future(future, loop\u001b[38;5;241m=\u001b[39m\u001b[38;5;28mself\u001b[39m)\n",
      "File \u001b[1;32m~\\AppData\\Local\\Programs\\Python\\Python311\\Lib\\asyncio\\base_events.py:586\u001b[0m, in \u001b[0;36mBaseEventLoop._check_running\u001b[1;34m(self)\u001b[0m\n\u001b[0;32m    584\u001b[0m \u001b[38;5;28;01mdef\u001b[39;00m \u001b[38;5;21m_check_running\u001b[39m(\u001b[38;5;28mself\u001b[39m):\n\u001b[0;32m    585\u001b[0m     \u001b[38;5;28;01mif\u001b[39;00m \u001b[38;5;28mself\u001b[39m\u001b[38;5;241m.\u001b[39mis_running():\n\u001b[1;32m--> 586\u001b[0m         \u001b[38;5;28;01mraise\u001b[39;00m \u001b[38;5;167;01mRuntimeError\u001b[39;00m(\u001b[38;5;124m'\u001b[39m\u001b[38;5;124mThis event loop is already running\u001b[39m\u001b[38;5;124m'\u001b[39m)\n\u001b[0;32m    587\u001b[0m     \u001b[38;5;28;01mif\u001b[39;00m events\u001b[38;5;241m.\u001b[39m_get_running_loop() \u001b[38;5;129;01mis\u001b[39;00m \u001b[38;5;129;01mnot\u001b[39;00m \u001b[38;5;28;01mNone\u001b[39;00m:\n\u001b[0;32m    588\u001b[0m         \u001b[38;5;28;01mraise\u001b[39;00m \u001b[38;5;167;01mRuntimeError\u001b[39;00m(\n\u001b[0;32m    589\u001b[0m             \u001b[38;5;124m'\u001b[39m\u001b[38;5;124mCannot run the event loop while another loop is running\u001b[39m\u001b[38;5;124m'\u001b[39m)\n",
      "\u001b[1;31mRuntimeError\u001b[0m: This event loop is already running"
     ]
    }
   ],
   "source": [
    "# used for asynchronus programming - doesn't wait for one task to finish to start other\n",
    "# (perform various operations at once and swapping among each connection as they finish and return their results.\n",
    "# Basically, it sends request to a connection and moves to the next one instead of waiting for the previous one’s response. \n",
    "# It continues like this until all the connections have returned the outputs.)\n",
    "\n",
    "# python does asynchronus programming with the help of coroutines which are python functions that can be paused and resumed\n",
    "\n",
    "# async keyword is used to declare a couroutine\n",
    "\n",
    "async def couroutine_fun():\n",
    "    print(\"I am inside a couroutine\")\n",
    "\n",
    "#print(couroutine_fun())    # Output: <coroutine object couroutine_fun at 0x0000023874380940>\n",
    "\n",
    "# To run a coroutine, we need to schedule it on the event loop. \n",
    "# After scheduling, coroutines are wrapped in Tasks as a Future object.\n",
    "import asyncio                 # library that provides async, await, and event loop below\n",
    "\n",
    "loop = asyncio.get_event_loop()     # The get_event_loop returns an asyncio event loop.\n",
    "                                    # An event loop is needed to execute asynchronous code.\n",
    "res = loop.run_until_complete(couroutine_fun())   # Will throw a error in jupyter, run in python interpreter\n",
    "loop.close()\n",
    "\n",
    "# The run_until_complete function runs the event loop until a future is done. \n",
    "# It return the future's result, or raise its exception. \n",
    "# A Future represents an eventual result of an asynchronous operation.\n",
    "\n",
    "#asyncio.run(couroutine_fun())  # It creates an event loop, schedules the coroutines and in the end closes the loop.\n"
   ]
  },
  {
   "cell_type": "markdown",
   "id": "667620db-3ee3-41b7-87ce-60eaeee624f8",
   "metadata": {},
   "source": [
    "##### 35. await"
   ]
  },
  {
   "cell_type": "code",
   "execution_count": 41,
   "id": "bdcb5410-e3ae-4a15-b218-e36b89e6d610",
   "metadata": {},
   "outputs": [
    {
     "ename": "RuntimeError",
     "evalue": "asyncio.run() cannot be called from a running event loop",
     "output_type": "error",
     "traceback": [
      "\u001b[1;31m---------------------------------------------------------------------------\u001b[0m",
      "\u001b[1;31mRuntimeError\u001b[0m                              Traceback (most recent call last)",
      "Cell \u001b[1;32mIn [41], line 25\u001b[0m\n\u001b[0;32m     21\u001b[0m \u001b[38;5;28;01masync\u001b[39;00m \u001b[38;5;28;01mdef\u001b[39;00m \u001b[38;5;21mmain\u001b[39m():\n\u001b[0;32m     23\u001b[0m     \u001b[38;5;28;01mawait\u001b[39;00m asyncio\u001b[38;5;241m.\u001b[39mgather(task1(), task2(), task3())\n\u001b[1;32m---> 25\u001b[0m \u001b[43masyncio\u001b[49m\u001b[38;5;241;43m.\u001b[39;49m\u001b[43mrun\u001b[49m\u001b[43m(\u001b[49m\u001b[43mmain\u001b[49m\u001b[43m(\u001b[49m\u001b[43m)\u001b[49m\u001b[43m)\u001b[49m\n",
      "File \u001b[1;32m~\\AppData\\Local\\Programs\\Python\\Python311\\Lib\\asyncio\\runners.py:186\u001b[0m, in \u001b[0;36mrun\u001b[1;34m(main, debug)\u001b[0m\n\u001b[0;32m    161\u001b[0m \u001b[38;5;124;03m\"\"\"Execute the coroutine and return the result.\u001b[39;00m\n\u001b[0;32m    162\u001b[0m \n\u001b[0;32m    163\u001b[0m \u001b[38;5;124;03mThis function runs the passed coroutine, taking care of\u001b[39;00m\n\u001b[1;32m   (...)\u001b[0m\n\u001b[0;32m    182\u001b[0m \u001b[38;5;124;03m    asyncio.run(main())\u001b[39;00m\n\u001b[0;32m    183\u001b[0m \u001b[38;5;124;03m\"\"\"\u001b[39;00m\n\u001b[0;32m    184\u001b[0m \u001b[38;5;28;01mif\u001b[39;00m events\u001b[38;5;241m.\u001b[39m_get_running_loop() \u001b[38;5;129;01mis\u001b[39;00m \u001b[38;5;129;01mnot\u001b[39;00m \u001b[38;5;28;01mNone\u001b[39;00m:\n\u001b[0;32m    185\u001b[0m     \u001b[38;5;66;03m# fail fast with short traceback\u001b[39;00m\n\u001b[1;32m--> 186\u001b[0m     \u001b[38;5;28;01mraise\u001b[39;00m \u001b[38;5;167;01mRuntimeError\u001b[39;00m(\n\u001b[0;32m    187\u001b[0m         \u001b[38;5;124m\"\u001b[39m\u001b[38;5;124masyncio.run() cannot be called from a running event loop\u001b[39m\u001b[38;5;124m\"\u001b[39m)\n\u001b[0;32m    189\u001b[0m \u001b[38;5;28;01mwith\u001b[39;00m Runner(debug\u001b[38;5;241m=\u001b[39mdebug) \u001b[38;5;28;01mas\u001b[39;00m runner:\n\u001b[0;32m    190\u001b[0m     \u001b[38;5;28;01mreturn\u001b[39;00m runner\u001b[38;5;241m.\u001b[39mrun(main)\n",
      "\u001b[1;31mRuntimeError\u001b[0m: asyncio.run() cannot be called from a running event loop"
     ]
    }
   ],
   "source": [
    "# await keyword is used to interrupt the coroutine. \n",
    "# It is also used to call async function specified beside it like 'await couroutine_fun()' for above async function\n",
    "# on encountering await  event loop will switch to run another task\n",
    "import asyncio\n",
    "\n",
    "async def task1():\n",
    "    await asyncio.sleep(3)\n",
    "    print(\"task 1 finished\")\n",
    "\n",
    "\n",
    "async def task2():\n",
    "    await asyncio.sleep(1)\n",
    "    print(\"task 2 finished\")\n",
    "\n",
    "\n",
    "async def task3():\n",
    "    await asyncio.sleep(2)\n",
    "    print(\"task 3 finished\")\n",
    "\n",
    "\n",
    "async def main():\n",
    "\n",
    "    await asyncio.gather(task1(), task2(), task3())\n",
    "\n",
    "asyncio.run(main())\n",
    "\n",
    "# Output :-\n",
    "# task 2 finished\n",
    "# task 3 finished\n",
    "# task 1 finished\n",
    "\n",
    "# We have three tasks that finish in a specified number of seconds.\n",
    "# This way we simulate execution of three different long-running tasks.\n",
    "\n",
    "# The main functions gathers all the three tasks. It is also a coroutine, decorated with async. \n",
    "# We await the results of the asyncio.gather with the await keyword.\n",
    "\n",
    "# we use gather because run and run_until_complete can only take one coroutine"
   ]
  },
  {
   "cell_type": "markdown",
   "id": "09259f9a-70c3-4e8c-9d73-772156086896",
   "metadata": {
    "tags": []
   },
   "source": [
    "### Softkeywords - only reserved under specfic contexts"
   ]
  },
  {
   "cell_type": "code",
   "execution_count": 42,
   "id": "afc1523f-8d9b-4867-909b-7976ac889329",
   "metadata": {},
   "outputs": [
    {
     "name": "stdout",
     "output_type": "stream",
     "text": [
      "Total python soft keywords: 3\n",
      "['_', 'case', 'match']\n"
     ]
    }
   ],
   "source": [
    "# Difference between hard and soft keywords\n",
    "# hard keywords are always reserved words, even in positions where they make no sense\n",
    "# while soft keywords only get a special meaning in context\n",
    "# distinctions of soft keywords are done at parser level, not when tokenizing\n",
    "\n",
    "import keyword\n",
    "\n",
    "python_soft_keywords = keyword.softkwlist\n",
    "print(\"Total python soft keywords:\",len(python_soft_keywords))\n",
    "print(python_soft_keywords)"
   ]
  },
  {
   "cell_type": "markdown",
   "id": "2f184c2c-d1f2-473b-82db-3285cc8e57f7",
   "metadata": {},
   "source": [
    "##### 1. match"
   ]
  },
  {
   "cell_type": "code",
   "execution_count": 43,
   "id": "23b11e4d-0191-41c7-b8dc-1f2156f1cc01",
   "metadata": {},
   "outputs": [
    {
     "name": "stdout",
     "output_type": "stream",
     "text": [
      "Match found\n",
      "Match used as an identifier\n"
     ]
    }
   ],
   "source": [
    "# match is used to compare an expression against a set of patterns like switch in C++\n",
    "expression = 'a'\n",
    "match expression:\n",
    "    case 'a':\n",
    "        print(\"Match found\")\n",
    "        \n",
    "match = \"Match used as an identifier\"\n",
    "print(match)"
   ]
  },
  {
   "cell_type": "markdown",
   "id": "e3ec1737-949e-429b-a42b-4c6a33abdd76",
   "metadata": {},
   "source": [
    "##### 2. case"
   ]
  },
  {
   "cell_type": "code",
   "execution_count": 44,
   "id": "924b3440-c700-4d9f-af65-0b7671539c83",
   "metadata": {},
   "outputs": [
    {
     "name": "stdout",
     "output_type": "stream",
     "text": [
      "Match found\n",
      "Case used as an identifier\n"
     ]
    }
   ],
   "source": [
    "# used to provide patterns to compare with match statement expression\n",
    "expression = 'a'\n",
    "match expression:\n",
    "    case 1:\n",
    "        print(\"No match will be found\")\n",
    "    case 'a':\n",
    "        print(\"Match found\")\n",
    "        \n",
    "case = \"Case used as an identifier\"\n",
    "print(case)\n"
   ]
  },
  {
   "cell_type": "markdown",
   "id": "179198d0-ec24-405a-adbe-1574968f12cd",
   "metadata": {},
   "source": [
    "##### 3. _"
   ]
  },
  {
   "cell_type": "code",
   "execution_count": 45,
   "id": "af3d75f3-738a-4ec4-a0c5-e40fff37bfc6",
   "metadata": {},
   "outputs": [
    {
     "name": "stdout",
     "output_type": "stream",
     "text": [
      "Match found\n",
      "1\n",
      "_ can also be used as an identifier\n"
     ]
    }
   ],
   "source": [
    "# In a case pattern within a match statement, _ is a soft keyword that denotes a wildcard.\n",
    "# Separately, the interactive interpreter makes the result of the last evaluation available in the variable _.\n",
    "# Elsewhere, _ is a regular identifier, often used to name “special” items, but it is not special to Python itself.\n",
    "expression = 'a'\n",
    "match expression:\n",
    "    case 1:\n",
    "        print(\"No match will be found\")\n",
    "    case False:\n",
    "        print(\"No match will be found\")\n",
    "    case _:\n",
    "        print(\"Match found\")\n",
    "\n",
    "3+4      \n",
    "print(_)    # meant to work in interpreter\n",
    "\n",
    "# It is also commonly used as a placeholder for unused variables.\n",
    "for _ in range(1):\n",
    "    print(\"_ can also be used as an identifier\")"
   ]
  },
  {
   "cell_type": "markdown",
   "id": "14ea82a8-ce6d-4e9f-a6b5-1a35ef94d7b6",
   "metadata": {},
   "source": [
    "### Identifier -   name we give to identify a variable, function, class, module or other object"
   ]
  },
  {
   "cell_type": "markdown",
   "id": "276bc801-d1f9-43ae-b7b8-0e675419e6ce",
   "metadata": {},
   "source": [
    "##### Rules for writing identifiers"
   ]
  },
  {
   "cell_type": "code",
   "execution_count": 46,
   "id": "9ea032fe-a8a8-4c83-aa60-90d04581b0b7",
   "metadata": {},
   "outputs": [],
   "source": [
    "# 1. Identifiers can be a combination of letters in lowercase or uppercase or digits (0 to 9) or an underscore _\n",
    "# 2. An identifier cannot start with a digit.\n",
    "# 3. Keywords cannot be used as identifiers.\n",
    "# 4. We cannot use special symbols like !, @, #, $, % etc. in our identifier.\n",
    "# 5. An identifier can be of any length.\n",
    "# Note - Remember Python is case sensitive and variable and Variable are two different identifiers.\n"
   ]
  }
 ],
 "metadata": {
  "kernelspec": {
   "display_name": "Python 3 (ipykernel)",
   "language": "python",
   "name": "python3"
  },
  "language_info": {
   "codemirror_mode": {
    "name": "ipython",
    "version": 3
   },
   "file_extension": ".py",
   "mimetype": "text/x-python",
   "name": "python",
   "nbconvert_exporter": "python",
   "pygments_lexer": "ipython3",
   "version": "3.11.0"
  }
 },
 "nbformat": 4,
 "nbformat_minor": 5
}
