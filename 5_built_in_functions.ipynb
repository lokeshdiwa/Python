{
 "cells": [
  {
   "cell_type": "markdown",
   "id": "d7f256b2-818c-44bc-ada7-b798956b44ea",
   "metadata": {},
   "source": [
    "# type convertible functionality"
   ]
  },
  {
   "cell_type": "markdown",
   "id": "659f479e-bad8-4a85-8234-945afffce1e9",
   "metadata": {},
   "source": [
    "### int()"
   ]
  },
  {
   "cell_type": "code",
   "execution_count": 60,
   "id": "0e4793ac-d1cd-43c0-a427-9d8e98b236dd",
   "metadata": {},
   "outputs": [
    {
     "name": "stdout",
     "output_type": "stream",
     "text": [
      "0\n",
      "7\n",
      "5 \n",
      "\n",
      "10\n",
      "5 \n",
      "\n",
      "16\n",
      "14 \n",
      "\n",
      "15\n",
      "10 \n",
      "\n",
      "56\n"
     ]
    }
   ],
   "source": [
    "# int( value [optional default_0] , base_of_value [optional default_base_10]) \n",
    "# converts any numeric string, bytes-like object or a number to integer (floor value) and returns.\n",
    "\n",
    "print(int())\n",
    "print(int(\"7\"))\n",
    "print(int(5.9),\"\\n\")\n",
    "#print(int(\"3.5\"))         # will give error can't do double conversions\n",
    "\n",
    "# binary to integer conversion\n",
    "print(int(\"1010\",2))       \n",
    "print(int(\"0b101\",2),\"\\n\")\n",
    "\n",
    "# octal to integer conversion\n",
    "print(int(\"20\",8))         \n",
    "print(int(\"0o16\",8),\"\\n\")\n",
    "\n",
    "# hexadecimal to integer conversion\n",
    "print(int(\"F\",16))         \n",
    "print(int(\"0xA\",16),\"\\n\")\n",
    "\n",
    "# int for custom objects\n",
    "# __int__ or __index__ methods can be overridden to return an integer.\n",
    "class int_demo():\n",
    "    def __int__(self):\n",
    "        return 56    \n",
    "    \n",
    "int_demo_obj = int_demo()\n",
    "print(int(int_demo_obj))\n"
   ]
  },
  {
   "cell_type": "code",
   "execution_count": null,
   "id": "44b1b3f8-fbc0-4643-915d-f46930d2f438",
   "metadata": {},
   "outputs": [
    {
     "name": "stdout",
     "output_type": "stream",
     "text": [
      "0\n",
      "0.0\n",
      "\n",
      "False\n",
      "[]\n",
      "()\n",
      "{}\n",
      "set()\n",
      "0j\n"
     ]
    },
    {
     "ename": "TypeError",
     "evalue": "ord() takes exactly one argument (0 given)",
     "output_type": "error",
     "traceback": [
      "\u001b[1;31m---------------------------------------------------------------------------\u001b[0m",
      "\u001b[1;31mTypeError\u001b[0m                                 Traceback (most recent call last)",
      "Cell \u001b[1;32mIn [5], line 10\u001b[0m\n\u001b[0;32m      8\u001b[0m \u001b[38;5;28mprint\u001b[39m(\u001b[38;5;28mset\u001b[39m())\n\u001b[0;32m      9\u001b[0m \u001b[38;5;28mprint\u001b[39m(\u001b[38;5;28mcomplex\u001b[39m())\n\u001b[1;32m---> 10\u001b[0m \u001b[38;5;28mprint\u001b[39m(\u001b[38;5;28;43mord\u001b[39;49m\u001b[43m(\u001b[49m\u001b[43m)\u001b[49m)\n\u001b[0;32m     11\u001b[0m \u001b[38;5;28mprint\u001b[39m(\u001b[38;5;28mchr\u001b[39m())\n\u001b[0;32m     12\u001b[0m \u001b[38;5;28mprint\u001b[39m(ascii())\n",
      "\u001b[1;31mTypeError\u001b[0m: ord() takes exactly one argument (0 given)"
     ]
    }
   ],
   "source": [
    "print(float())\n",
    "print(str())\n",
    "print(bool())\n",
    "print(list())\n",
    "print(tuple())\n",
    "print(dict())\n",
    "print(set())\n",
    "print(complex())\n",
    "print(ord())\n",
    "print(chr())\n",
    "print(ascii())\n",
    "print(bin())\n",
    "print(hex())\n",
    "print(oct())\n",
    "print(bytes())\n",
    "print(bytearray())\n",
    "print(frozenset())"
   ]
  },
  {
   "cell_type": "code",
   "execution_count": null,
   "id": "be2e7a3e-7fe0-46f8-a3f0-cd9d5ef2cb0e",
   "metadata": {},
   "outputs": [],
   "source": [
    "# input/output functionality\n",
    "\n",
    "input()\n",
    "print()\n",
    "open()"
   ]
  },
  {
   "cell_type": "code",
   "execution_count": null,
   "id": "22713640-ddc4-453a-83b1-c3807e401555",
   "metadata": {},
   "outputs": [],
   "source": [
    "# string functionality\n",
    "\n",
    "format()"
   ]
  },
  {
   "cell_type": "code",
   "execution_count": 2,
   "id": "c2c30d92-16b2-4761-9194-63dcbd85aac6",
   "metadata": {},
   "outputs": [],
   "source": [
    "# maths functionality\n",
    "\n",
    "abs(number)  # return the number's distance from origin. For complex number x - yj calculate euclidean distance i.e sqrt(x*x + y*y)\n",
    "max()\n",
    "min()\n",
    "pow()\n",
    "sum()\n",
    "round()\n",
    "divmod()\n"
   ]
  },
  {
   "cell_type": "code",
   "execution_count": 11,
   "id": "321213c6-b8d6-463d-bbd7-e62c6f001c6e",
   "metadata": {},
   "outputs": [],
   "source": [
    "# iteration functionality\n",
    "\n",
    "iter()\n",
    "next()\n",
    "aiter()\n",
    "anext()\n",
    "range() # xrange()\n",
    "enumerate()\n",
    "zip()\n"
   ]
  },
  {
   "cell_type": "code",
   "execution_count": null,
   "id": "89ef309f-9ff0-4489-969e-d8aaff842ca5",
   "metadata": {},
   "outputs": [],
   "source": [
    "# sequence functionality\n",
    "\n",
    "all()\n",
    "any()\n",
    "len()\n",
    "reversed()\n",
    "sorted()\n",
    "filter()\n",
    "map()\n",
    "slice()\n"
   ]
  },
  {
   "cell_type": "code",
   "execution_count": null,
   "id": "8e24e561-3d4c-4e13-b600-d9f365eadfd3",
   "metadata": {},
   "outputs": [],
   "source": [
    "# help functionality\n",
    "\n",
    "help()\n",
    "dir()\n",
    "globals()\n",
    "locals()\n",
    "super()\n"
   ]
  },
  {
   "cell_type": "code",
   "execution_count": null,
   "id": "7bdc4d37-6bc3-424a-a582-7a6f3f254ea0",
   "metadata": {},
   "outputs": [],
   "source": [
    "# functions functionality\n",
    "\n",
    "callable()"
   ]
  },
  {
   "cell_type": "code",
   "execution_count": null,
   "id": "79abe9e4-7b4a-43ca-b65d-7eecd5f096ed",
   "metadata": {},
   "outputs": [],
   "source": [
    "# class object functionality\n",
    "\n",
    "classmethod()\n",
    "staticmethod()\n",
    "isinstance()\n",
    "issubclass()\n",
    "type()\n",
    "delattr()\n",
    "getattr()\n",
    "hasattr()\n",
    "setattr()\n",
    "object()\n",
    "property()\n",
    "repr()\n",
    "vars()\n"
   ]
  },
  {
   "cell_type": "code",
   "execution_count": null,
   "id": "fee08300-8f9d-49f7-992d-088fc8e6ce76",
   "metadata": {},
   "outputs": [],
   "source": [
    "# debugging functionality\n",
    "\n",
    "breakpoint()\n"
   ]
  },
  {
   "cell_type": "code",
   "execution_count": null,
   "id": "b6816608-0f84-4bb2-bf65-168f8be2fc87",
   "metadata": {},
   "outputs": [],
   "source": [
    "# miscellanous functionality\n",
    "\n",
    "compile()\n",
    "eval()\n",
    "exec()\n",
    "hash()\n",
    "id()\n",
    "memoryview()\n"
   ]
  }
 ],
 "metadata": {
  "kernelspec": {
   "display_name": "Python 3 (ipykernel)",
   "language": "python",
   "name": "python3"
  },
  "language_info": {
   "codemirror_mode": {
    "name": "ipython",
    "version": 3
   },
   "file_extension": ".py",
   "mimetype": "text/x-python",
   "name": "python",
   "nbconvert_exporter": "python",
   "pygments_lexer": "ipython3",
   "version": "3.11.0"
  }
 },
 "nbformat": 4,
 "nbformat_minor": 5
}
