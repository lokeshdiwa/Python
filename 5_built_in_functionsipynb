{
 "cells": [
  {
   "cell_type": "code",
   "execution_count": null,
   "id": "30b4cbc6-084e-44e5-81ea-9c8be3d69403",
   "metadata": {},
   "outputs": [],
   "source": [
    "# functions that convert one type to another type\n",
    "\n",
    "print(int())\n",
    "print(float())\n",
    "print(str())\n",
    "print(bool())\n",
    "print(list())\n",
    "print(tuple())\n",
    "print(dict())\n",
    "print(set())\n",
    "print(complex())\n",
    "print(ord())\n",
    "print(chr())\n",
    "print(ascii())\n",
    "print(bin())\n",
    "print(hex())\n",
    "print(oct())\n",
    "print(bytes())\n",
    "print(bytearray())\n",
    "print(frozenset())"
   ]
  },
  {
   "cell_type": "code",
   "execution_count": null,
   "id": "be2e7a3e-7fe0-46f8-a3f0-cd9d5ef2cb0e",
   "metadata": {},
   "outputs": [],
   "source": [
    "# input/output functionality\n",
    "\n",
    "input()\n",
    "print()"
   ]
  },
  {
   "cell_type": "code",
   "execution_count": 1,
   "id": "321213c6-b8d6-463d-bbd7-e62c6f001c6e",
   "metadata": {},
   "outputs": [
    {
     "ename": "TypeError",
     "evalue": "aiter() takes exactly one argument (0 given)",
     "output_type": "error",
     "traceback": [
      "\u001b[1;31m---------------------------------------------------------------------------\u001b[0m",
      "\u001b[1;31mTypeError\u001b[0m                                 Traceback (most recent call last)",
      "Cell \u001b[1;32mIn [2], line 4\u001b[0m\n\u001b[0;32m      1\u001b[0m \u001b[38;5;66;03m# iteration functionality\u001b[39;00m\n\u001b[0;32m      2\u001b[0m \n\u001b[0;32m      3\u001b[0m \u001b[38;5;66;03m#\u001b[39;00m\n\u001b[1;32m----> 4\u001b[0m \u001b[43maiter\u001b[49m\u001b[43m(\u001b[49m\u001b[43m)\u001b[49m\n\u001b[0;32m      5\u001b[0m anext()\n",
      "\u001b[1;31mTypeError\u001b[0m: aiter() takes exactly one argument (0 given)"
     ]
    }
   ],
   "source": [
    "# iteration functionality\n",
    "\n",
    "iter()\n",
    "next()\n",
    "aiter()\n",
    "anext()\n"
   ]
  }
 ],
 "metadata": {
  "kernelspec": {
   "display_name": "Python 3 (ipykernel)",
   "language": "python",
   "name": "python3"
  },
  "language_info": {
   "codemirror_mode": {
    "name": "ipython",
    "version": 3
   },
   "file_extension": ".py",
   "mimetype": "text/x-python",
   "name": "python",
   "nbconvert_exporter": "python",
   "pygments_lexer": "ipython3",
   "version": "3.11.0"
  }
 },
 "nbformat": 4,
 "nbformat_minor": 5
}
